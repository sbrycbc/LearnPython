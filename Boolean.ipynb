{
  "nbformat": 4,
  "nbformat_minor": 0,
  "metadata": {
    "colab": {
      "provenance": [],
      "authorship_tag": "ABX9TyPtniuKAFnWJAiCFPKm6FUR",
      "include_colab_link": true
    },
    "kernelspec": {
      "name": "python3",
      "display_name": "Python 3"
    },
    "language_info": {
      "name": "python"
    }
  },
  "cells": [
    {
      "cell_type": "markdown",
      "metadata": {
        "id": "view-in-github",
        "colab_type": "text"
      },
      "source": [
        "<a href=\"https://colab.research.google.com/github/sbrycbc/LearnPython/blob/main/Boolean.ipynb\" target=\"_parent\"><img src=\"https://colab.research.google.com/assets/colab-badge.svg\" alt=\"Open In Colab\"/></a>"
      ]
    },
    {
      "cell_type": "code",
      "execution_count": null,
      "metadata": {
        "id": "0fTMCTd908NI"
      },
      "outputs": [],
      "source": [
        " ### Boolean Data Type ###\n",
        "\n",
        "# Boolean (bool) veri tipi, yalnızca iki farklı değer alabilen bir veri tipidir:\n",
        "# True (doğru) ve False (yanlış). Programlamada çok yaygın olarak kullanılır ve genellikle koşul ifadelerinde, mantıksal kontrollerde ve döngülerde karar vermek için kullanılır.\n",
        "\n",
        " # Python’da Boolean ifadeler #\n",
        "\n",
        "# True ve False anahtar kelimeleriyle temsil edilir.\n",
        "# Bu ifadeler, sıfır olmayan sayılar True, sıfır veya boş değerler ise False olarak değerlendirilir.\n"
      ]
    },
    {
      "cell_type": "code",
      "source": [
        "a = True\n",
        "b= False\n",
        "\n",
        "print(a)\n",
        "print(b)\n",
        "print(not a)"
      ],
      "metadata": {
        "colab": {
          "base_uri": "https://localhost:8080/"
        },
        "id": "Wz_mDlhx2AyH",
        "outputId": "5fd818fd-6427-4c45-ec12-3e1cb8409720"
      },
      "execution_count": 1,
      "outputs": [
        {
          "output_type": "stream",
          "name": "stdout",
          "text": [
            "True\n",
            "False\n",
            "False\n"
          ]
        }
      ]
    },
    {
      "cell_type": "code",
      "source": [
        "is_sunny=True\n",
        "\n",
        "if is_sunny:\n",
        "  print(\" Let's go outside!\")\n",
        "else:\n",
        "  print(\"Let's stay inside\")\n"
      ],
      "metadata": {
        "colab": {
          "base_uri": "https://localhost:8080/"
        },
        "id": "9YMUnvgj2Keq",
        "outputId": "cee77a04-8c60-44db-e6f6-db4a862aa6db"
      },
      "execution_count": 2,
      "outputs": [
        {
          "output_type": "stream",
          "name": "stdout",
          "text": [
            " Let's go outside!\n"
          ]
        }
      ]
    },
    {
      "cell_type": "code",
      "source": [
        "is_sunny=False\n",
        "\n",
        "if is_sunny:\n",
        "  print(\" Let's go outside!\")\n",
        "else:\n",
        "  print(\"Let's stay inside\")"
      ],
      "metadata": {
        "colab": {
          "base_uri": "https://localhost:8080/"
        },
        "id": "pTzX5JL16_P9",
        "outputId": "cfa213c5-c69f-47da-ab40-86ac8e16de1c"
      },
      "execution_count": 4,
      "outputs": [
        {
          "output_type": "stream",
          "name": "stdout",
          "text": [
            "Let's stay inside\n"
          ]
        }
      ]
    },
    {
      "cell_type": "code",
      "source": [
        "is_raining=True\n",
        "\n",
        "if not is_raining:\n",
        "  print(\"You dont't need an umbrella!\")\n",
        "else:\n",
        "  print(\"Take your umbrella with you!\")"
      ],
      "metadata": {
        "colab": {
          "base_uri": "https://localhost:8080/"
        },
        "id": "78NrHHJc6bbB",
        "outputId": "c20d0c21-6c86-4779-fdcd-7cb97ea454cb"
      },
      "execution_count": 3,
      "outputs": [
        {
          "output_type": "stream",
          "name": "stdout",
          "text": [
            "Take your umbrella with you!\n"
          ]
        }
      ]
    },
    {
      "cell_type": "code",
      "source": [
        "### Using Comparison Operators / Karşılaştırma Operatörlerini Kullanma ###\n",
        "\n",
        "# == (Eşittir) İki değerin birbirine eşit olup olmadığını kontrol eder. Eşitse True, değilse False döner.\n",
        "\n",
        "# != (Eşit Değildir) İki değerin eşit olmadığını kontrol eder. Eşit değilse True, eşitse False döner.\n",
        "\n",
        "# < (Küçüktür) Soldaki değerin sağdaki değerden küçük olup olmadığını kontrol eder. Küçükse True, değilse False döner.\n",
        "\n",
        "# > (Büyüktür) Soldaki değerin sağdaki değerden büyük olup olmadığını kontrol eder. Büyükse True, değilse\n"
      ],
      "metadata": {
        "id": "DSem9ku169ry"
      },
      "execution_count": null,
      "outputs": []
    },
    {
      "cell_type": "code",
      "source": [
        "age = 20\n",
        "is_adult = age>=18\n",
        "print(is_adult)"
      ],
      "metadata": {
        "colab": {
          "base_uri": "https://localhost:8080/"
        },
        "id": "Nyv_GYyi8TnZ",
        "outputId": "c4aa5e8a-6fcd-47eb-c993-27e5aa306791"
      },
      "execution_count": 5,
      "outputs": [
        {
          "output_type": "stream",
          "name": "stdout",
          "text": [
            "True\n"
          ]
        }
      ]
    },
    {
      "cell_type": "code",
      "source": [
        "name = \"Ali\"\n",
        "is_equel = name == \"Alice\"\n",
        "print(is_equel)"
      ],
      "metadata": {
        "colab": {
          "base_uri": "https://localhost:8080/"
        },
        "id": "yE3lnoex8dcm",
        "outputId": "3bd27d6b-15a7-42fa-f37d-01a6e6d2bc3d"
      },
      "execution_count": 6,
      "outputs": [
        {
          "output_type": "stream",
          "name": "stdout",
          "text": [
            "False\n"
          ]
        }
      ]
    },
    {
      "cell_type": "code",
      "source": [
        "###  Comon False Values / Yaygın False Değerler ###\n",
        "\n",
        "# Python’da bazı değerler varsayılan olarak False kabul edilir.\n",
        "# Bu değerler koşul ifadelerinde veya if bloklarında kullanıldığında False olarak değerlendirilir.\n",
        "\n",
        "None\n",
        "False\n",
        "0"
      ],
      "metadata": {
        "id": "Xx-sVwl78soK"
      },
      "execution_count": null,
      "outputs": []
    },
    {
      "cell_type": "code",
      "source": [
        "## None\n",
        "\n",
        "# Python’da None, boş veya tanımsız bir değeri ifade eder ve False olarak değerlendirilir.\n",
        "\n",
        "x = None\n",
        "if not x:\n",
        "    print(\"x False olarak değerlendirildi\")\n"
      ],
      "metadata": {
        "colab": {
          "base_uri": "https://localhost:8080/"
        },
        "id": "1MN_hwby92wB",
        "outputId": "63ddb6ab-e4c5-4e70-b706-c02ab1819368"
      },
      "execution_count": 7,
      "outputs": [
        {
          "output_type": "stream",
          "name": "stdout",
          "text": [
            "x False olarak değerlendirildi\n"
          ]
        }
      ]
    },
    {
      "cell_type": "code",
      "source": [
        "## False\n",
        "\n",
        "# False değeri doğrudan kendisi False’tur.\n",
        "\n",
        "if not False:\n",
        "    print(\"Bu ifade False olarak değerlendirildi\")\n"
      ],
      "metadata": {
        "colab": {
          "base_uri": "https://localhost:8080/"
        },
        "id": "roMNZKCp9918",
        "outputId": "4ea802db-a55f-4a9c-b073-f525daf4a859"
      },
      "execution_count": 8,
      "outputs": [
        {
          "output_type": "stream",
          "name": "stdout",
          "text": [
            "Bu ifade False olarak değerlendirildi\n"
          ]
        }
      ]
    },
    {
      "cell_type": "code",
      "source": [
        "## 0 (Sıfır)\n",
        "\n",
        "# Tam sayı olarak 0 değeri False kabul edilir. 0 haricindeki tüm sayılar True kabul edilir.\n",
        "\n",
        "y = 0\n",
        "if not y:\n",
        "    print(\"y False olarak değerlendirildi\")\n"
      ],
      "metadata": {
        "colab": {
          "base_uri": "https://localhost:8080/"
        },
        "id": "RFr7iuVc-M7Q",
        "outputId": "6f4df95f-c5b5-48b7-b98a-16980fce016a"
      },
      "execution_count": 9,
      "outputs": [
        {
          "output_type": "stream",
          "name": "stdout",
          "text": [
            "y False olarak değerlendirildi\n"
          ]
        }
      ]
    },
    {
      "cell_type": "code",
      "source": [
        "value = 0\n",
        "if value:\n",
        "  print(\"Value is non-zero\")\n",
        "else:\n",
        "  print(\"Value is zero\")"
      ],
      "metadata": {
        "colab": {
          "base_uri": "https://localhost:8080/"
        },
        "id": "3QYUMcXj-edr",
        "outputId": "8e41eaa8-48ed-4b24-812e-eaa40001d91a"
      },
      "execution_count": 10,
      "outputs": [
        {
          "output_type": "stream",
          "name": "stdout",
          "text": [
            "Value is zero\n"
          ]
        }
      ]
    },
    {
      "cell_type": "code",
      "source": [
        "### Combining Conditions / Koşulları Birleştirme ###"
      ],
      "metadata": {
        "id": "Z2-W2tF0GSgn"
      },
      "execution_count": 11,
      "outputs": []
    },
    {
      "cell_type": "code",
      "source": [
        "##  and Operatörü\n",
        "# and operatörü ile iki veya daha fazla koşulun hepsinin True olup olmadığını kontrol ederiz.\n",
        "# Tüm koşullar True ise sonuç True olur; herhangi biri False ise sonuç False olur.\n",
        "\n",
        "x = 5\n",
        "y = 10\n",
        "if x > 0 and y > 5:\n",
        "    print(\"Her iki koşul da doğru\")"
      ],
      "metadata": {
        "colab": {
          "base_uri": "https://localhost:8080/"
        },
        "id": "WLDW_zAyGy_k",
        "outputId": "f06a257d-3d7d-4043-efa1-f6f5c92a4988"
      },
      "execution_count": 12,
      "outputs": [
        {
          "output_type": "stream",
          "name": "stdout",
          "text": [
            "Her iki koşul da doğru\n"
          ]
        }
      ]
    },
    {
      "cell_type": "code",
      "source": [
        "is_adult = True\n",
        "has_ticket = False\n",
        "\n",
        "if is_adult and has_ticket:\n",
        "  print(\"You can enter the concer\")\n",
        "else:\n",
        "  print(\"You cant't enter the concer\")"
      ],
      "metadata": {
        "colab": {
          "base_uri": "https://localhost:8080/"
        },
        "id": "q9ES9ZkoHDr1",
        "outputId": "9afdf9c0-6856-4aab-ddad-0a5ff3618202"
      },
      "execution_count": 14,
      "outputs": [
        {
          "output_type": "stream",
          "name": "stdout",
          "text": [
            "You cant't enter the concer\n"
          ]
        }
      ]
    },
    {
      "cell_type": "code",
      "source": [
        "## or Operatörü\n",
        "# or operatörü ile iki veya daha fazla koşuldan en az birinin True olup olmadığını kontrol ederiz.\n",
        "# Koşullardan biri bile True ise sonuç True olur; tüm koşullar False ise sonuç False olur."
      ],
      "metadata": {
        "id": "mMpIe3azHh1m"
      },
      "execution_count": 15,
      "outputs": []
    },
    {
      "cell_type": "code",
      "source": [
        "a = 3\n",
        "b = 7\n",
        "if a > 5 or b > 5:\n",
        "    print(\"En az bir koşul doğru\")\n",
        "\n"
      ],
      "metadata": {
        "colab": {
          "base_uri": "https://localhost:8080/"
        },
        "id": "-ICf5u_2H6Zn",
        "outputId": "347cfced-181d-4395-d191-4d44541316fc"
      },
      "execution_count": 16,
      "outputs": [
        {
          "output_type": "stream",
          "name": "stdout",
          "text": [
            "En az bir koşul doğru\n"
          ]
        }
      ]
    },
    {
      "cell_type": "code",
      "source": [
        "has_money = True\n",
        "has_ticket = False\n",
        "\n",
        "if has_money or has_ticket:\n",
        "  print(\"You can go to concer\")\n",
        "else:\n",
        "  print(\"You can't go to concer\")"
      ],
      "metadata": {
        "colab": {
          "base_uri": "https://localhost:8080/"
        },
        "id": "DgKxKGV_ID9T",
        "outputId": "9a1ce6d9-b3e4-43c9-d647-734a5121e9d9"
      },
      "execution_count": 17,
      "outputs": [
        {
          "output_type": "stream",
          "name": "stdout",
          "text": [
            "You can go to concer\n"
          ]
        }
      ]
    },
    {
      "cell_type": "code",
      "source": [
        "## not Operatörü\n",
        "# not operatörü, bir koşulun sonucunu tersine çevirir. True olan bir ifadeyi False, False olan bir ifadeyi True yapar.\n",
        "\n"
      ],
      "metadata": {
        "id": "KB7quUYzIgNF"
      },
      "execution_count": 18,
      "outputs": []
    },
    {
      "cell_type": "code",
      "source": [
        "is_valid = False\n",
        "if not is_valid:\n",
        "    print(\"Koşul yanlış\")\n"
      ],
      "metadata": {
        "colab": {
          "base_uri": "https://localhost:8080/"
        },
        "id": "S-dIFws6IvzP",
        "outputId": "f0f35683-d26d-4327-84e7-9000d43043c8"
      },
      "execution_count": 19,
      "outputs": [
        {
          "output_type": "stream",
          "name": "stdout",
          "text": [
            "Koşul yanlış\n"
          ]
        }
      ]
    },
    {
      "cell_type": "code",
      "source": [],
      "metadata": {
        "id": "_4RLiG9dIyO8"
      },
      "execution_count": null,
      "outputs": []
    }
  ]
}