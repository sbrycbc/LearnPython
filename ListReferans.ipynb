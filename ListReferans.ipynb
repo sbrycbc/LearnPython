{
  "nbformat": 4,
  "nbformat_minor": 0,
  "metadata": {
    "colab": {
      "provenance": [],
      "authorship_tag": "ABX9TyOZoBUxklBtf58yqoXw2k3t",
      "include_colab_link": true
    },
    "kernelspec": {
      "name": "python3",
      "display_name": "Python 3"
    },
    "language_info": {
      "name": "python"
    }
  },
  "cells": [
    {
      "cell_type": "markdown",
      "metadata": {
        "id": "view-in-github",
        "colab_type": "text"
      },
      "source": [
        "<a href=\"https://colab.research.google.com/github/sbrycbc/LearnPython/blob/main/ListReferans.ipynb\" target=\"_parent\"><img src=\"https://colab.research.google.com/assets/colab-badge.svg\" alt=\"Open In Colab\"/></a>"
      ]
    },
    {
      "cell_type": "code",
      "execution_count": 1,
      "metadata": {
        "colab": {
          "base_uri": "https://localhost:8080/"
        },
        "id": "k6JC3VFHMKCa",
        "outputId": "3207853a-218d-43b1-dabc-8d70390f1378"
      },
      "outputs": [
        {
          "output_type": "stream",
          "name": "stdout",
          "text": [
            "[1, 3, 5, 7, 9, 18, 43, 56, 98]\n"
          ]
        }
      ],
      "source": [
        "a = [1,3,5,7,9,18,43,56,98]\n",
        "print(a)"
      ]
    },
    {
      "cell_type": "code",
      "source": [
        "b = a\n",
        "print(b)"
      ],
      "metadata": {
        "id": "YRvSdRshNcLi",
        "colab": {
          "base_uri": "https://localhost:8080/"
        },
        "outputId": "6ff63dee-020f-4b5e-c2d9-3cce8665ca1d"
      },
      "execution_count": 2,
      "outputs": [
        {
          "output_type": "stream",
          "name": "stdout",
          "text": [
            "[1, 3, 5, 7, 9, 18, 43, 56, 98]\n"
          ]
        }
      ]
    },
    {
      "cell_type": "code",
      "source": [
        "a[0]=1\n",
        "print(a)"
      ],
      "metadata": {
        "colab": {
          "base_uri": "https://localhost:8080/"
        },
        "id": "h7jgYW5tzMNz",
        "outputId": "e6bf5d4f-70fe-4f4c-b1ca-4c60aef21b19"
      },
      "execution_count": 3,
      "outputs": [
        {
          "output_type": "stream",
          "name": "stdout",
          "text": [
            "[1, 3, 5, 7, 9, 18, 43, 56, 98]\n"
          ]
        }
      ]
    },
    {
      "cell_type": "code",
      "source": [
        "print(b)"
      ],
      "metadata": {
        "colab": {
          "base_uri": "https://localhost:8080/"
        },
        "id": "iLVvl_wPzZed",
        "outputId": "b3e08cf0-4dcb-42c0-9cb4-d112ca5d3694"
      },
      "execution_count": 4,
      "outputs": [
        {
          "output_type": "stream",
          "name": "stdout",
          "text": [
            "[1, 3, 5, 7, 9, 18, 43, 56, 98]\n"
          ]
        }
      ]
    },
    {
      "cell_type": "code",
      "source": [
        "c=list(a)\n",
        "print(c)"
      ],
      "metadata": {
        "colab": {
          "base_uri": "https://localhost:8080/"
        },
        "id": "E2WuGSYmzie-",
        "outputId": "6a6dc7c3-cb7b-41ab-b780-56ccb9ca7f88"
      },
      "execution_count": 5,
      "outputs": [
        {
          "output_type": "stream",
          "name": "stdout",
          "text": [
            "[1, 3, 5, 7, 9, 18, 43, 56, 98]\n"
          ]
        }
      ]
    },
    {
      "cell_type": "code",
      "source": [
        "b[0]=2\n",
        "print(b)"
      ],
      "metadata": {
        "colab": {
          "base_uri": "https://localhost:8080/"
        },
        "id": "c8BRkHNW0iDB",
        "outputId": "46f75e7a-46fa-4b0f-9b9b-f7ccc9318f3f"
      },
      "execution_count": 6,
      "outputs": [
        {
          "output_type": "stream",
          "name": "stdout",
          "text": [
            "[2, 3, 5, 7, 9, 18, 43, 56, 98]\n"
          ]
        }
      ]
    },
    {
      "cell_type": "code",
      "source": [
        "print(c)"
      ],
      "metadata": {
        "colab": {
          "base_uri": "https://localhost:8080/"
        },
        "id": "S_y6R51Lz0K0",
        "outputId": "23eaf032-3de7-4f8f-9450-e79229954100"
      },
      "execution_count": 7,
      "outputs": [
        {
          "output_type": "stream",
          "name": "stdout",
          "text": [
            "[1, 3, 5, 7, 9, 18, 43, 56, 98]\n"
          ]
        }
      ]
    },
    {
      "cell_type": "code",
      "source": [
        "sinif_listesi=[[\"Ayse\", \"ögretmen\", \"Amerika\"],[\"Fatma\", \"doktor\", \"Ingiltere\"],[\"Hatice\", \"mühendis\", \"Türkiye\"],[\"Sevgi\", \"gazeteci\", \"Almanya\"]]\n",
        "\n",
        "\n",
        "for i in sinif_listesi:\n",
        "     print(i)"
      ],
      "metadata": {
        "id": "V_j4YYIDQiJm",
        "colab": {
          "base_uri": "https://localhost:8080/"
        },
        "outputId": "ed29f85d-d732-4b71-8beb-7a903714bf40"
      },
      "execution_count": 7,
      "outputs": [
        {
          "output_type": "stream",
          "name": "stdout",
          "text": [
            "['Ayse', 'ögretmen', 'Amerika']\n",
            "['Fatma', 'doktor', 'Ingiltere']\n",
            "['Hatice', 'mühendis', 'Türkiye']\n",
            "['Sevgi', 'gazeteci', 'Almanya']\n"
          ]
        }
      ]
    },
    {
      "cell_type": "code",
      "source": [
        "isimler = [i[0] for i in sinif_listesi]\n",
        "\n",
        "print(isimler)"
      ],
      "metadata": {
        "colab": {
          "base_uri": "https://localhost:8080/"
        },
        "id": "xw55nh_SZK-w",
        "outputId": "0d80dbb6-f3a2-464b-e436-6b83ed59caad"
      },
      "execution_count": 8,
      "outputs": [
        {
          "output_type": "stream",
          "name": "stdout",
          "text": [
            "['Ayse', 'Fatma', 'Hatice', 'Sevgi']\n"
          ]
        }
      ]
    },
    {
      "cell_type": "code",
      "source": [
        "meslekler=[]\n",
        "for i in sinif_listesi:\n",
        "  print(i[1])\n",
        "  meslekler.append(i[1])\n",
        "print(meslekler)"
      ],
      "metadata": {
        "colab": {
          "base_uri": "https://localhost:8080/"
        },
        "id": "7lH1uSVrarOV",
        "outputId": "0c30a731-85a9-4e6e-8798-7909b7b239be"
      },
      "execution_count": 12,
      "outputs": [
        {
          "output_type": "stream",
          "name": "stdout",
          "text": [
            "ögretmen\n",
            "doktor\n",
            "mühendis\n",
            "gazeteci\n",
            "['ögretmen', 'doktor', 'mühendis', 'gazeteci']\n"
          ]
        }
      ]
    },
    {
      "cell_type": "code",
      "source": [
        "ülkeler=[]\n",
        "for i in sinif_listesi:\n",
        "  print(i[2])\n",
        "  ülkeler.append(i[2])\n",
        "print(ülkeler)"
      ],
      "metadata": {
        "colab": {
          "base_uri": "https://localhost:8080/"
        },
        "id": "SDLJpsR5ZtF_",
        "outputId": "970fa662-f679-42d0-9c19-3f3b06790dd0"
      },
      "execution_count": 14,
      "outputs": [
        {
          "output_type": "stream",
          "name": "stdout",
          "text": [
            "Amerika\n",
            "Ingiltere\n",
            "Türkiye\n",
            "Almanya\n",
            "['Amerika', 'Ingiltere', 'Türkiye', 'Almanya']\n"
          ]
        }
      ]
    },
    {
      "cell_type": "code",
      "source": [],
      "metadata": {
        "id": "d0TTurzwb7CS"
      },
      "execution_count": null,
      "outputs": []
    }
  ]
}