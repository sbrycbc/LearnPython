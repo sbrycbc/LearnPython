{
  "nbformat": 4,
  "nbformat_minor": 0,
  "metadata": {
    "colab": {
      "provenance": [],
      "authorship_tag": "ABX9TyPHMwU7yDFTBo0y0fJy/sv4",
      "include_colab_link": true
    },
    "kernelspec": {
      "name": "python3",
      "display_name": "Python 3"
    },
    "language_info": {
      "name": "python"
    }
  },
  "cells": [
    {
      "cell_type": "markdown",
      "metadata": {
        "id": "view-in-github",
        "colab_type": "text"
      },
      "source": [
        "<a href=\"https://colab.research.google.com/github/sbrycbc/LearnPython/blob/main/dictionary.ipynb\" target=\"_parent\"><img src=\"https://colab.research.google.com/assets/colab-badge.svg\" alt=\"Open In Colab\"/></a>"
      ]
    },
    {
      "cell_type": "code",
      "source": [
        "### dictionary / sözlük ###\n",
        "\n",
        "  # anahtar-değer (key-value) çiftleriyle veri saklayan bir veri yapısıdır.\n",
        "  # Anahtarlar benzersizdir ve her anahtara karşılık bir değer bulunur.\n",
        "  # Anahtarlar, veri erişimini hızlı bir şekilde sağlar.\n",
        "\n",
        "## Özellikleri ##\n",
        "\n",
        " # - Anahtarlar (keys) benzersizdir ve genellikle sayılar, stringler gibi immutable (değiştirilemez) veri tipleri kullanılır.\n",
        " # - Değerler (values) herhangi bir veri tipi olabilir (sayılardan listelere, başka sözlüklere kadar).\n",
        " # - Sırasızdır, yani dictionary içerisindeki elemanların sırası garanti edilmez (Python 3.7 ve sonrasında sıralı olsa da, sırasız olarak tasarlanmışlardır).\n",
        " # - Küme yapısına benzer ancak anahtar-değer çiftleri içerir."
      ],
      "metadata": {
        "id": "8sR57MHtu_Fp"
      },
      "execution_count": null,
      "outputs": []
    },
    {
      "cell_type": "code",
      "source": [
        "# Dictionary tanımlama\n",
        "\n",
        "my_dict = {'isim': 'Ali', 'yas': 25, 'sehir': 'İstanbul'}"
      ],
      "metadata": {
        "id": "H0AP_JthvzPS"
      },
      "execution_count": 14,
      "outputs": []
    },
    {
      "cell_type": "code",
      "source": [
        "# Değere Erişim:\n",
        "\n",
        "print(my_dict['yas'])"
      ],
      "metadata": {
        "colab": {
          "base_uri": "https://localhost:8080/"
        },
        "id": "XJgj3UQ_v_7F",
        "outputId": "58a6ffc3-345a-4c2b-e09c-c27ec0109886"
      },
      "execution_count": 15,
      "outputs": [
        {
          "output_type": "stream",
          "name": "stdout",
          "text": [
            "25\n"
          ]
        }
      ]
    },
    {
      "cell_type": "code",
      "source": [
        "# Yeni Anahtar-Değer Çifti Eklemek:\n",
        "\n",
        "my_dict['meslek'] = 'Mühendis'\n",
        "print(my_dict)  # Yeni anahtar 'meslek' eklenir"
      ],
      "metadata": {
        "colab": {
          "base_uri": "https://localhost:8080/"
        },
        "id": "M-79QSsbwICd",
        "outputId": "17ca0fa3-0728-4309-b384-66198c861ccb"
      },
      "execution_count": 16,
      "outputs": [
        {
          "output_type": "stream",
          "name": "stdout",
          "text": [
            "{'isim': 'Ali', 'yas': 25, 'sehir': 'İstanbul', 'meslek': 'Mühendis'}\n"
          ]
        }
      ]
    },
    {
      "cell_type": "code",
      "source": [
        "# Değeri Güncellemek:\n",
        "\n",
        "my_dict['yas'] = 26  # 'yas' değeri 25'ten 26'ya güncellenir\n",
        "print(my_dict)"
      ],
      "metadata": {
        "colab": {
          "base_uri": "https://localhost:8080/"
        },
        "id": "fmtjq1TpwQts",
        "outputId": "f3999e15-eb81-4cd4-f155-075d8074d9e8"
      },
      "execution_count": 17,
      "outputs": [
        {
          "output_type": "stream",
          "name": "stdout",
          "text": [
            "{'isim': 'Ali', 'yas': 26, 'sehir': 'İstanbul', 'meslek': 'Mühendis'}\n"
          ]
        }
      ]
    },
    {
      "cell_type": "code",
      "source": [
        "# Anahtar Silmek:\n",
        "\n",
        "del my_dict['sehir']  # 'şehir' anahtarı silinir\n",
        "print(my_dict)"
      ],
      "metadata": {
        "colab": {
          "base_uri": "https://localhost:8080/"
        },
        "id": "uBIw9SVowXD6",
        "outputId": "57085d4f-92e1-43fe-9693-99ee876a5d2b"
      },
      "execution_count": 18,
      "outputs": [
        {
          "output_type": "stream",
          "name": "stdout",
          "text": [
            "{'isim': 'Ali', 'yas': 26, 'meslek': 'Mühendis'}\n"
          ]
        }
      ]
    },
    {
      "cell_type": "code",
      "source": [
        "##  pop() yöntemi\n",
        "\n",
        "# - Bir dictionary (sözlük) içerisinden bir anahtar-değer çiftini silmek ve silinen değeri geri almak için kullanılır.\n",
        "# - Bu metod, belirtilen anahtarı kaldırır ve ona karşılık gelen değeri döndürür.\n",
        "\n",
        "# Bir dictionary oluşturuluyor\n",
        "person = {'ad': 'Ali', 'yas': 25, 'sehir': 'Istanbul'}\n",
        "\n",
        "# pop() metodu ile 'yas' anahtarını ve değerini siliyoruz\n",
        "silinen_deger = person.pop('yas')\n",
        "\n",
        "# Silinen değeri yazdırıyoruz\n",
        "print(f\"Silinen deger: {silinen_deger}\")  # Ekrana 25 yazdırılır\n",
        "\n",
        "# Güncellenmiş dictionary\n",
        "print(person)  # Ekrana {'ad': 'Ali', 'sehir': 'Istanbul'} yazdırılır\n"
      ],
      "metadata": {
        "colab": {
          "base_uri": "https://localhost:8080/"
        },
        "id": "FQtpm5nCzRG0",
        "outputId": "73c16a2b-62b8-427c-cf39-9761d2ee95eb"
      },
      "execution_count": 20,
      "outputs": [
        {
          "output_type": "stream",
          "name": "stdout",
          "text": [
            "Silinen deger: 25\n",
            "{'ad': 'Ali', 'sehir': 'Istanbul'}\n"
          ]
        }
      ]
    },
    {
      "cell_type": "code",
      "source": [
        "## get() yöntemi\n",
        "\n",
        "# - bir sözlükten anahtar ile değer almak için kullanılır.\n",
        "# - Ancak, get() metodu, anahtar bulunamazsa hata vermez, bunun yerine None ya da belirtilen bir varsayılan değer döndürebilir.\n",
        "\n",
        "# Bir dictionary oluşturuluyor\n",
        "ogrenciler = {'ad': 'Ali', 'yas': 25, 'sehir': 'Istanbul'}\n",
        "\n",
        "# 'yas' anahtarına karşılık gelen değeri get() metodu ile alalım\n",
        "yas = ogrenciler.get('yas')\n",
        "print(f\"Yaş: {yas}\")  # Ekrana \"Yaş: 25\" yazdırılır\n",
        "\n",
        "# 'meslek' anahtarı yoksa, get() metodu None döndürecektir\n",
        "meslek = ogrenciler.get('meslek')\n",
        "print(f\"Meslek: {meslek}\")  # Ekrana \"Meslek: None\" yazdırılır\n"
      ],
      "metadata": {
        "colab": {
          "base_uri": "https://localhost:8080/"
        },
        "id": "PrYqFLvz2TdW",
        "outputId": "9a0741a8-c366-4dba-91d9-04521de82374"
      },
      "execution_count": 26,
      "outputs": [
        {
          "output_type": "stream",
          "name": "stdout",
          "text": [
            "Yaş: 25\n",
            "Meslek: None\n"
          ]
        }
      ]
    },
    {
      "cell_type": "code",
      "source": [
        "### Creating a nested dictionary ###\n",
        "\n",
        "# İki öğrencinin bilgilerini içeren dictionary\n",
        "\n",
        "ogrenciler = {\n",
        "    'ogrenci1': {\n",
        "        'ad': 'Ahmet',\n",
        "        'yas': 22,\n",
        "        'sehir': 'Ankara',\n",
        "        'notlar': {'matematik': 85, 'fizik': 90, 'kimya': 78}\n",
        "    },\n",
        "    'ogrenci2': {\n",
        "        'ad': 'Zeynep',\n",
        "        'yas': 21,\n",
        "        'sehir': 'Istanbul',\n",
        "        'notlar': {'matematik': 92, 'fizik': 88, 'kimya': 95}\n",
        "    }\n",
        "}\n",
        "\n",
        "# Öğrencilerin bilgilerini yazdırmak\n",
        "print(ogrenciler)\n"
      ],
      "metadata": {
        "colab": {
          "base_uri": "https://localhost:8080/"
        },
        "id": "6pRHdBZZ0Xgx",
        "outputId": "fa69dd21-3bd1-40b5-e8f1-72d368b64094"
      },
      "execution_count": 21,
      "outputs": [
        {
          "output_type": "stream",
          "name": "stdout",
          "text": [
            "{'ogrenci1': {'ad': 'Ahmet', 'yas': 22, 'sehir': 'Ankara', 'notlar': {'matematik': 85, 'fizik': 90, 'kimya': 78}}, 'ogrenci2': {'ad': 'Zeynep', 'yas': 21, 'sehir': 'Istanbul', 'notlar': {'matematik': 92, 'fizik': 88, 'kimya': 95}}}\n"
          ]
        }
      ]
    },
    {
      "cell_type": "code",
      "source": [
        "# Ahmet'in matematik notunu alalım\n",
        "\n",
        "ahmet_mat_notu = ogrenciler['ogrenci1']['notlar']['matematik']\n",
        "print(f\"Ahmet'in Matematik Notu: {ahmet_mat_notu}\")  # 85 yazdırır\n"
      ],
      "metadata": {
        "colab": {
          "base_uri": "https://localhost:8080/"
        },
        "id": "-z8crD9G1EiQ",
        "outputId": "32c685d3-19d4-4b5b-e404-cc365e3262a8"
      },
      "execution_count": 22,
      "outputs": [
        {
          "output_type": "stream",
          "name": "stdout",
          "text": [
            "Ahmet'in Matematik Notu: 85\n"
          ]
        }
      ]
    },
    {
      "cell_type": "code",
      "source": [
        "# Zeynep'in fizik notunu alalim\n",
        "\n",
        "zeynep_fizik_not = ogrenciler['ogrenci2']['notlar']['fizik']\n",
        "print(f\"Zeynep'in Fizik Notu: {zeynep_fizik_not}\")"
      ],
      "metadata": {
        "colab": {
          "base_uri": "https://localhost:8080/"
        },
        "id": "G68cyUco1MC3",
        "outputId": "9135dd8e-d17b-4337-e223-20e07dc5f1dd"
      },
      "execution_count": 23,
      "outputs": [
        {
          "output_type": "stream",
          "name": "stdout",
          "text": [
            "Zeynep'in Fizik Notu: 88\n"
          ]
        }
      ]
    },
    {
      "cell_type": "code",
      "source": [
        "sinif_listesi=[[\"Ayse\", \"ögretmen\", \"Amerika\"],[\"Fatma\", \"doktor\", \"Ingiltere\"],[\"Hatice\", \"mühendis\", \"Türkiye\"],[\"Sevgi\", \"gazeteci\", \"Almanya\"]]\n",
        "\n",
        "for item in sinif_listesi:\n",
        "  if \"Ayse\" in item:\n",
        "    print(item[1])"
      ],
      "metadata": {
        "colab": {
          "base_uri": "https://localhost:8080/"
        },
        "id": "CZNBPIlKLY9j",
        "outputId": "1739d3df-e24f-4298-f7b7-a383c3fdadc5"
      },
      "execution_count": null,
      "outputs": [
        {
          "output_type": "stream",
          "name": "stdout",
          "text": [
            "ögretmen\n"
          ]
        }
      ]
    },
    {
      "cell_type": "code",
      "source": [],
      "metadata": {
        "id": "1XiSdLDPOYtu"
      },
      "execution_count": null,
      "outputs": []
    }
  ]
}