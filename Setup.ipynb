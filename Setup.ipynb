{
  "nbformat": 4,
  "nbformat_minor": 0,
  "metadata": {
    "colab": {
      "provenance": [],
      "authorship_tag": "ABX9TyOqQv11Y+AmzvX3X+HBTYA2",
      "include_colab_link": true
    },
    "kernelspec": {
      "name": "python3",
      "display_name": "Python 3"
    },
    "language_info": {
      "name": "python"
    }
  },
  "cells": [
    {
      "cell_type": "markdown",
      "metadata": {
        "id": "view-in-github",
        "colab_type": "text"
      },
      "source": [
        "<a href=\"https://colab.research.google.com/github/sbrycbc/LearnPython/blob/main/Setup.ipynb\" target=\"_parent\"><img src=\"https://colab.research.google.com/assets/colab-badge.svg\" alt=\"Open In Colab\"/></a>"
      ]
    },
    {
      "cell_type": "code",
      "execution_count": null,
      "metadata": {
        "id": "w2i15iTCPKn5"
      },
      "outputs": [],
      "source": [
        "### Giriş ve Python Kurulumu ###\n",
        "\n",
        " # Python Nedir?\n",
        "  Python, okunabilirliği ve basitliği ile bilinen, yüksek seviyeli ve çok yönlü bir programlama dilidir.\n",
        "  Web geliştirme, veri bilimi, yapay zeka, otomasyon gibi birçok alanda yaygın olarak kullanılır.\n",
        "  Python’un esnekliği ve geniş kütüphane desteği, onu hem yeni başlayanlar hem de profesyoneller için ideal bir tercih yapar.\n",
        "\n",
        " # Python Nerelerde Kullanılır?\n",
        "  Python, çeşitli endüstrilerde ve uygulama alanlarında kullanılır:\n",
        "    - **Veri Bilimi ve Makine Öğrenimi:** NumPy, pandas, TensorFlow gibi güçlü kütüphaneleri sayesinde veri analizi ve yapay zeka geliştirme için idealdir.\n",
        "    - **Web Geliştirme:** Django ve Flask gibi framework’ler, sağlam web uygulamaları oluşturmayı sağlar.\n",
        "    - **Otomasyon ve Scripting:** Python’un kolay kullanımı ve geniş standart kütüphanesi, onu otomasyon görevleri için vazgeçilmez kılar.\n",
        "    - **Yazılım Geliştirme:** Modüler yapısı ve geniş ekosistemi sayesinde Python, karmaşık uygulamalar geliştirmede de kullanılır.\n",
        "\n",
        " # Python Kurulumu\n",
        "  Python ile programlama yapmak için ilk adım, onu bilgisayarınıza kurmaktır.\n",
        "  Resmi [Python web sitesinden](https://www.python.org/downloads/) en son sürümü indirebilirsiniz.\n",
        "  Kurulum sırasında Python’u sistem PATH’ine ekleme seçeneğini işaretlemeyi unutmayın.\n",
        "\n",
        " # İlk Python Programı: \"Hello World\"\n",
        "  Python’un kurulumunu tamamladıktan sonra, ilk Python programınızı yazabilirsiniz. Yeni bir Python dosyası açarak aşağıdaki kodu ekleyin ve çalıştırın:\n",
        "\n",
        "  ```python\n",
        "  print(\"Hello, World!\")\n"
      ]
    }
  ]
}