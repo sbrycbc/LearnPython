{
  "nbformat": 4,
  "nbformat_minor": 0,
  "metadata": {
    "colab": {
      "provenance": [],
      "authorship_tag": "ABX9TyOXfpHhszaYV3nWAMcCso7g",
      "include_colab_link": true
    },
    "kernelspec": {
      "name": "python3",
      "display_name": "Python 3"
    },
    "language_info": {
      "name": "python"
    }
  },
  "cells": [
    {
      "cell_type": "markdown",
      "metadata": {
        "id": "view-in-github",
        "colab_type": "text"
      },
      "source": [
        "<a href=\"https://colab.research.google.com/github/sbrycbc/LearnPython/blob/main/hangingGame.ipynb\" target=\"_parent\"><img src=\"https://colab.research.google.com/assets/colab-badge.svg\" alt=\"Open In Colab\"/></a>"
      ]
    },
    {
      "cell_type": "code",
      "execution_count": null,
      "metadata": {
        "id": "tqbvKTl938L_",
        "colab": {
          "base_uri": "https://localhost:8080/"
        },
        "outputId": "5af016e7-5789-4d29-f80f-0d2ed9a6e05e"
      },
      "outputs": [
        {
          "output_type": "stream",
          "name": "stdout",
          "text": [
            "Adam Asma Oyununa Hos Geldiniz:))\n",
            "\n",
            "Kategori : Hayvan\n",
            "\n",
            "Kelime: ______\n",
            "Kalan Hak: 8\n",
            "Tahmin Edilen Harfler: \n",
            "Bir harf tahmin edin!!!h\n",
            "Yanlis Tahmin :(\n",
            "\n",
            "Kelime: ______\n",
            "Kalan Hak: 7\n",
            "Tahmin Edilen Harfler: h\n",
            "Bir harf tahmin edin!!!s\n",
            "Yanlis Tahmin :(\n",
            "\n",
            "Kelime: ______\n",
            "Kalan Hak: 6\n",
            "Tahmin Edilen Harfler: hs\n",
            "Bir harf tahmin edin!!!a\n",
            "Dogru Tahmin!!!\n",
            "\n",
            "Kelime: _a__a_\n",
            "Kalan Hak: 6\n",
            "Tahmin Edilen Harfler: hsa\n",
            "Bir harf tahmin edin!!!k\n",
            "Dogru Tahmin!!!\n",
            "\n",
            "Kelime: ka__a_\n",
            "Kalan Hak: 6\n",
            "Tahmin Edilen Harfler: hsak\n",
            "Bir harf tahmin edin!!!p\n",
            "Dogru Tahmin!!!\n",
            "\n",
            "Kelime: kap_a_\n",
            "Kalan Hak: 6\n",
            "Tahmin Edilen Harfler: hsakp\n",
            "Bir harf tahmin edin!!!l\n",
            "Dogru Tahmin!!!\n",
            "\n",
            "Kelime: kapla_\n",
            "Kalan Hak: 6\n",
            "Tahmin Edilen Harfler: hsakpl\n",
            "Bir harf tahmin edin!!!n\n",
            "Dogru Tahmin!!!\n",
            "\n",
            "Tebrikler Kelimeyi buldunuz: kaplan\n",
            "Tekrar Oynamak Ister misin?? (evet/hayir):hayir\n",
            "Tesekkürler..Tekrar Görüsmek Üzere!!\n"
          ]
        }
      ],
      "source": [
        "\n",
        "## Adam Asma Oyunu ##\n",
        "\n",
        "import random\n",
        "\n",
        "def adam_asma():\n",
        "\n",
        "  kategoriler = {\n",
        "        \"hayvan\": [\"aslan\", \"kaplan\", \"fil\", \"köpek\", \"kedi\", \"zürafa\"],\n",
        "        \"şehir\": [\"istanbul\", \"ankara\", \"izmir\", \"antalya\", \"adana\", \"trabzon\"],\n",
        "        \"eşya\": [\"masa\", \"sandalyer\", \"telefon\", \"bilgisayar\", \"kalem\", \"kitap\"],\n",
        "        \"ülke\": [\"türkiye\", \"almanya\", \"fransa\", \"japonya\", \"brezilya\", \"kanada\"],\n",
        "        \"meslek\": [\"doktor\", \"ögretmen\", \"avukat\", \"mühendis\", \"polis\", \"soför\"],\n",
        "    }\n",
        "\n",
        "  print(\"Adam Asma Oyununa Hos Geldiniz:))\")\n",
        "\n",
        "  while True:\n",
        "\n",
        "        kategori, kelime_listesi = random.choice(list(kategoriler.items()))\n",
        "        kelime = random.choice(kelime_listesi)\n",
        "        kelime_uzunlugu = len(kelime)\n",
        "        tahmin_edilen = [\"_\"] * kelime_uzunlugu\n",
        "        max_hata = 8\n",
        "        hata_sayisi = 0\n",
        "        tahmin_edilen_harfler = []\n",
        "\n",
        "        print(f\"\\nKategori : {kategori.capitalize()}\") #capitalize() metodu, bir stringin ilk harflerini büyük harfe çevirir.\n",
        "\n",
        "\n",
        "        while hata_sayisi < max_hata:\n",
        "          print(\"\\nKelime:\",\"\".join(tahmin_edilen))\n",
        "          print(\"Kalan Hak:\",max_hata-hata_sayisi)\n",
        "          print(\"Tahmin Edilen Harfler:\",\"\".join(tahmin_edilen_harfler))\n",
        "\n",
        "          tahmin = input(\"Bir harf tahmin edin!!!\").lower() #lower() metodu, bir stringin tüm harflerini küçük harfe çevirir.\n",
        "\n",
        "          if tahmin in tahmin_edilen_harfler:\n",
        "            print(\"Bu harfi zaten coktan denediniz!!\")\n",
        "            continue # Döngüyü tamamen sonlandırmaz; sadece mevcut iterasyonu atlar.\n",
        "\n",
        "          tahmin_edilen_harfler.append(tahmin)\n",
        "\n",
        "          if tahmin in kelime:\n",
        "            for i, harf in enumerate(kelime):\n",
        "              if harf == tahmin:\n",
        "                tahmin_edilen[i] = tahmin\n",
        "            print(\"Dogru Tahmin!!!\")\n",
        "          else:\n",
        "            hata_sayisi += 1\n",
        "            print(\"Yanlis Tahmin :(\")\n",
        "\n",
        "          if \"_\" not in tahmin_edilen:\n",
        "            print(\"\\nTebrikler Kelimeyi buldunuz:\", kelime)\n",
        "            break\n",
        "        else:\n",
        "          print(\"\\nMaalesef Bulumadiniz:(\", kelime)\n",
        "\n",
        "        tekrar_oyna = input(\"Tekrar Oynamak Ister misin?? (evet/hayir):\").lower()\n",
        "        if tekrar_oyna != \"evet\":\n",
        "          print(\"Tesekkürler..Tekrar Görüsmek Üzere!!\")\n",
        "          break\n",
        "\n",
        "adam_asma()"
      ]
    },
    {
      "cell_type": "code",
      "source": [],
      "metadata": {
        "id": "TvfTR6nKpVaS"
      },
      "execution_count": null,
      "outputs": []
    }
  ]
}