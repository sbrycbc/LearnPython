{
  "nbformat": 4,
  "nbformat_minor": 0,
  "metadata": {
    "colab": {
      "provenance": [],
      "authorship_tag": "ABX9TyPyk6KZYzoBiKxTMrvYIKOc",
      "include_colab_link": true
    },
    "kernelspec": {
      "name": "python3",
      "display_name": "Python 3"
    },
    "language_info": {
      "name": "python"
    }
  },
  "cells": [
    {
      "cell_type": "markdown",
      "metadata": {
        "id": "view-in-github",
        "colab_type": "text"
      },
      "source": [
        "<a href=\"https://colab.research.google.com/github/sbrycbc/LearnPython/blob/main/printVSreturn.ipynb\" target=\"_parent\"><img src=\"https://colab.research.google.com/assets/colab-badge.svg\" alt=\"Open In Colab\"/></a>"
      ]
    },
    {
      "cell_type": "code",
      "source": [
        "### print ile return arasindaki fark  ###\n",
        "\n",
        "## print ve return Python'da farklı amaçlar için kullanılır:\n",
        "\n",
        "  # print: Ekrana bir şey yazdırmak için kullanılır.\n",
        "  # Bir fonksiyonun çıktısını kullanıcıya göstermek istediğinizde tercih edilir.\n",
        "  # Ancak, yazdırılan veri başka bir işlemde kullanılamaz\n",
        "\n",
        "def hello():\n",
        "    print(\"Merhaba!\")\n",
        "hello()  # Ekranda 'Merhaba!' görünür\n",
        "\n",
        "\n",
        "  # return: Bir fonksiyonun sonucunu çağırıldığı yere döndürmek için kullanılır.\n",
        "  # Dönen değer başka işlemlerde kullanılabilir.\n",
        "\n",
        "def topla(a, b):\n",
        "    return a + b\n",
        "sonuc = topla(3, 5)\n",
        "print(sonuc)  # Ekranda '8' görünür\n"
      ],
      "metadata": {
        "id": "W2j2ctq2C5Xc"
      },
      "execution_count": null,
      "outputs": []
    },
    {
      "cell_type": "code",
      "source": [
        "def ikile(sayi):\n",
        "  return 2*sayi"
      ],
      "metadata": {
        "id": "KiFWQWhFtPIW"
      },
      "execution_count": 1,
      "outputs": []
    },
    {
      "cell_type": "code",
      "source": [
        "ls=[1,2,3,4,5]\n",
        "new_ls=[]\n",
        "for i in ls:\n",
        "  new_ls.append(ikile(i))\n",
        "new_ls"
      ],
      "metadata": {
        "colab": {
          "base_uri": "https://localhost:8080/"
        },
        "id": "Lnw1AtgBCOoG",
        "outputId": "2715dab4-8768-42c6-d506-88dcd6585dc1"
      },
      "execution_count": 2,
      "outputs": [
        {
          "output_type": "execute_result",
          "data": {
            "text/plain": [
              "[2, 4, 6, 8, 10]"
            ]
          },
          "metadata": {},
          "execution_count": 2
        }
      ]
    },
    {
      "cell_type": "code",
      "source": [
        "def atla_say(baslangic, bitis, adim):\n",
        "\n",
        "    for sayi in range(baslangic, bitis, adim):\n",
        "        print(sayi)\n",
        "\n",
        "\n",
        "atla_say(1, 10, 2)"
      ],
      "metadata": {
        "colab": {
          "base_uri": "https://localhost:8080/"
        },
        "id": "RhRBrabFDQp9",
        "outputId": "39805221-a618-49de-f371-2eb2ae0f3cdc"
      },
      "execution_count": null,
      "outputs": [
        {
          "output_type": "stream",
          "name": "stdout",
          "text": [
            "1\n",
            "3\n",
            "5\n",
            "7\n",
            "9\n"
          ]
        }
      ]
    },
    {
      "cell_type": "code",
      "source": [
        "def selamlama(isim):\n",
        "    print(f\"Merhaba, {isim}! Hoş geldin!\")\n",
        "\n",
        "selamlama(\"Metin\")"
      ],
      "metadata": {
        "colab": {
          "base_uri": "https://localhost:8080/"
        },
        "id": "HVcFbXoXEX2p",
        "outputId": "b65021db-9adf-43dc-e5ce-f0e8746a9261"
      },
      "execution_count": null,
      "outputs": [
        {
          "output_type": "stream",
          "name": "stdout",
          "text": [
            "Merhaba, Metin! Hoş geldin!\n"
          ]
        }
      ]
    },
    {
      "cell_type": "code",
      "source": [
        "def sesli_harf_sayisi(text):\n",
        "\n",
        "    sesli_harfler = \"aeiouAEIOU\"\n",
        "\n",
        "    sayac = 0\n",
        "\n",
        "    for harf in text:\n",
        "        if harf in sesli_harfler:\n",
        "            sayac += 1\n",
        "    return sayac\n",
        "\n",
        "\n",
        "text = \"Merhabaaa, Hosgelsiniz?\"\n",
        "print(f\"Sesli harf sayısı: {sesli_harf_sayisi(text)}\")"
      ],
      "metadata": {
        "colab": {
          "base_uri": "https://localhost:8080/"
        },
        "id": "xV4yvBd_Ew_Z",
        "outputId": "21471f49-bd77-4f48-a9ac-4935fe19e8ee"
      },
      "execution_count": null,
      "outputs": [
        {
          "output_type": "stream",
          "name": "stdout",
          "text": [
            "Sesli harf sayısı: 9\n"
          ]
        }
      ]
    },
    {
      "cell_type": "code",
      "source": [],
      "metadata": {
        "id": "x-IXu5imH1pN"
      },
      "execution_count": null,
      "outputs": []
    }
  ]
}