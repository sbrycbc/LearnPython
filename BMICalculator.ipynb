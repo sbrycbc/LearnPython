{
  "nbformat": 4,
  "nbformat_minor": 0,
  "metadata": {
    "colab": {
      "provenance": [],
      "authorship_tag": "ABX9TyPth9jYiFhw3ZHIZF8HSGyS",
      "include_colab_link": true
    },
    "kernelspec": {
      "name": "python3",
      "display_name": "Python 3"
    },
    "language_info": {
      "name": "python"
    }
  },
  "cells": [
    {
      "cell_type": "markdown",
      "metadata": {
        "id": "view-in-github",
        "colab_type": "text"
      },
      "source": [
        "<a href=\"https://colab.research.google.com/github/sbrycbc/LearnPython/blob/main/BMICalculator.ipynb\" target=\"_parent\"><img src=\"https://colab.research.google.com/assets/colab-badge.svg\" alt=\"Open In Colab\"/></a>"
      ]
    },
    {
      "cell_type": "code",
      "execution_count": 2,
      "metadata": {
        "colab": {
          "base_uri": "https://localhost:8080/"
        },
        "id": "TNtPYmZwnhAw",
        "outputId": "02114441-07dc-4cf3-b42d-8d254420f9d9"
      },
      "outputs": [
        {
          "output_type": "stream",
          "name": "stdout",
          "text": [
            "Lütfen ağırlığınızı giriniz (kg): 67\n",
            "Lütfen boyunuzu giriniz (metre cinsinden, örn: 1.75): 1.70\n",
            "\n",
            "BMI Değeriniz: 23.18\n",
            "Sonuç: Normal kilolu (Normal weight) - Sağlıklı bir kilodasınız, bu durumu koruyun!\n"
          ]
        }
      ],
      "source": [
        "###  BMI Hesaplama / BMI Calculator ###\n",
        "\n",
        "try:\n",
        "    # Kullanıcıdan ağırlık ve boy bilgilerini al\n",
        "    weight = float(input(\"Lütfen ağırlığınızı giriniz (kg): \"))\n",
        "    height = float(input(\"Lütfen boyunuzu giriniz (metre cinsinden, örn: 1.75): \"))\n",
        "\n",
        "    # BMI Hesaplama\n",
        "    BMI = weight / (height ** 2)\n",
        "\n",
        "    # Sonuçları değerlendirme\n",
        "    if BMI < 18.5:\n",
        "        category = \"Düşük kilolu (Underweight)\"\n",
        "        advice = \"Daha sağlıklı bir kilo arayışında olmalısınız.\"\n",
        "    elif 18.5 <= BMI < 24.9:\n",
        "        category = \"Normal kilolu (Normal weight)\"\n",
        "        advice = \"Sağlıklı bir kilodasınız, bu durumu koruyun!\"\n",
        "    elif 25 <= BMI < 29.9:\n",
        "        category = \"Fazla kilolu (Overweight)\"\n",
        "        advice = \"Sağlığınıza dikkat etmeli ve fiziksel aktivitenizi artırmalısınız.\"\n",
        "    else:\n",
        "        category = \"Obez (Obesity)\"\n",
        "        advice = \"Bu sonuca göre bir sağlık uzmanına danışmalısınız.\"\n",
        "\n",
        "    # Kullanıcıya sonuçları göster\n",
        "    print(f\"\\nBMI Değeriniz: {BMI:.2f}\")\n",
        "    print(f\"Sonuç: {category} - {advice}\")\n",
        "except ValueError:\n",
        "    print(\"Hata: Lütfen geçerli bir sayı giriniz!\")\n",
        "except ZeroDivisionError:\n",
        "    print(\"Hata: Boy değeri sıfır olamaz!\")\n",
        "\n",
        "\n"
      ]
    },
    {
      "cell_type": "code",
      "source": [],
      "metadata": {
        "id": "aYNeYY16pUb1"
      },
      "execution_count": null,
      "outputs": []
    }
  ]
}