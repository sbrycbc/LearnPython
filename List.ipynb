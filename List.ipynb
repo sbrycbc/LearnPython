{
  "nbformat": 4,
  "nbformat_minor": 0,
  "metadata": {
    "colab": {
      "provenance": [],
      "authorship_tag": "ABX9TyMGn3QO2YH4l5bcCvLEnGma",
      "include_colab_link": true
    },
    "kernelspec": {
      "name": "python3",
      "display_name": "Python 3"
    },
    "language_info": {
      "name": "python"
    }
  },
  "cells": [
    {
      "cell_type": "markdown",
      "metadata": {
        "id": "view-in-github",
        "colab_type": "text"
      },
      "source": [
        "<a href=\"https://colab.research.google.com/github/sbrycbc/LearnPython/blob/main/List.ipynb\" target=\"_parent\"><img src=\"https://colab.research.google.com/assets/colab-badge.svg\" alt=\"Open In Colab\"/></a>"
      ]
    },
    {
      "cell_type": "code",
      "execution_count": 25,
      "metadata": {
        "colab": {
          "base_uri": "https://localhost:8080/"
        },
        "id": "4O-Ul1oSzRVe",
        "outputId": "962dc06e-f748-45d3-91d8-58731ea30089"
      },
      "outputs": [
        {
          "output_type": "stream",
          "name": "stdout",
          "text": [
            "<class 'list'>\n",
            "<class 'list'>\n",
            "1\n",
            "[1, 2]\n"
          ]
        }
      ],
      "source": [
        " ####  Listeler  ####\n",
        "\n",
        "   # Listeler, Python'da birden fazla veriyi bir arada tutmak için kullanılan veri yapılarıdır.\n",
        "   # Listeler değiştirilebilir (mutable) olduklarından, içindeki elemanları ekleyebilir, çıkarabilir veya güncelleyebiliriz.\n",
        "   # Listeler köşeli parantez [] veya list() fonksiyonu ile tanımlanabilir.\n",
        "\n",
        " liste1=[1,2,3,[\"Ayse\",\"Fatma\"]]\n",
        " liste2=list((12,3))\n",
        " liste=[\"cat\", \"dog\",\"monkey\"]\n",
        "\n",
        "   # Bir değişkenin tipini type() fonksiyonu ile öğrenebiliriz. Bu, bize değişkenin liste mi olduğunu gösterir.\n",
        "\n",
        " print(type(liste1))\n",
        " print(type(liste2))\n",
        "\n",
        " print(liste1[0])    # 1 - liste1'in ilk elemanı\n",
        "\n",
        " print(liste1[0:2])  # [1, 2] - liste1'in 0. ve 1. indeksli elemanları"
      ]
    },
    {
      "cell_type": "code",
      "source": [
        "liste3=list(range(1,10))\n",
        "print(liste3)"
      ],
      "metadata": {
        "colab": {
          "base_uri": "https://localhost:8080/"
        },
        "id": "pBn04ecYI_Uh",
        "outputId": "41322ad7-a45d-4e0f-8bc6-b053d66feb7a"
      },
      "execution_count": 12,
      "outputs": [
        {
          "output_type": "stream",
          "name": "stdout",
          "text": [
            "[1, 2, 3, 4, 5, 6, 7, 8, 9]\n"
          ]
        }
      ]
    },
    {
      "cell_type": "code",
      "source": [
        "for items in liste2:\n",
        "  print(items)"
      ],
      "metadata": {
        "colab": {
          "base_uri": "https://localhost:8080/"
        },
        "collapsed": true,
        "id": "T1DF-nsd7g6u",
        "outputId": "1703fb85-9d28-4a68-d2ce-ea3df0550b79"
      },
      "execution_count": 13,
      "outputs": [
        {
          "output_type": "stream",
          "name": "stdout",
          "text": [
            "12\n",
            "3\n"
          ]
        }
      ]
    },
    {
      "cell_type": "code",
      "source": [
        "## len() fonksiyonu,\n",
        "   # bir listenin (veya string, tuple gibi birçok veri yapısının) eleman sayısını yani uzunluğunu bulmak için kullanılır.\n",
        "\n",
        "meyve=[\"banana\",\"elma\",\"erik\",\"kayisi\"]\n",
        "\n",
        "print(len(meyve))\n",
        "\n"
      ],
      "metadata": {
        "colab": {
          "base_uri": "https://localhost:8080/"
        },
        "id": "0evlrBo37mtP",
        "outputId": "10e2571a-4448-4ab2-ffd9-790a77b6ebed"
      },
      "execution_count": 26,
      "outputs": [
        {
          "output_type": "stream",
          "name": "stdout",
          "text": [
            "4\n"
          ]
        }
      ]
    },
    {
      "cell_type": "code",
      "source": [
        "\n",
        "## append() fonksiyonu,\n",
        "  # bir listeye yeni bir eleman eklemek için kullanılır ve bu elemanı listenin en sonuna yerleştirir.\n",
        "  # append() fonksiyonu, listenin mevcut elemanlarını değiştirmez, yalnızca listenin sonuna bir eleman ekler.\n",
        "\n",
        "print(liste1)\n",
        "liste1.append(4)\n",
        "print(liste1)\n"
      ],
      "metadata": {
        "colab": {
          "base_uri": "https://localhost:8080/"
        },
        "id": "kB5QwXZBJxfl",
        "outputId": "c651ec44-fb35-42d3-e657-2cbf653ac63d"
      },
      "execution_count": 17,
      "outputs": [
        {
          "output_type": "stream",
          "name": "stdout",
          "text": [
            "[1, 2, 3, ['Ayse', 'Fatma']]\n",
            "[1, 2, 3, ['Ayse', 'Fatma'], 4]\n"
          ]
        }
      ]
    },
    {
      "cell_type": "code",
      "source": [
        "##insert() fonksiyonu,\n",
        " # listeye belirli bir konuma yeni bir eleman eklemek için kullanılır.\n",
        " # Bu fonksiyon, elemanı belirtilen indekse ekler ve o indeksin sonrasındaki elemanları birer basamak kaydırır.\n",
        "\n",
        "liste1.insert(1,\"mango\") # 1. eleman olarak mango ekle diyoruz\n",
        "print(liste1)"
      ],
      "metadata": {
        "colab": {
          "base_uri": "https://localhost:8080/"
        },
        "id": "UdsbJ1ASJyWz",
        "outputId": "fa1bad72-ffba-437f-fab8-c44dbf532710"
      },
      "execution_count": 18,
      "outputs": [
        {
          "output_type": "stream",
          "name": "stdout",
          "text": [
            "[1, 'mango', 2, 3, ['Ayse', 'Fatma'], 4]\n"
          ]
        }
      ]
    },
    {
      "cell_type": "code",
      "source": [
        "## remove() fonksiyonu,\n",
        "# bir listeden belirli bir değeri silmek için kullanılır.\n",
        "# Bu fonksiyon, listede belirtilen değeri bulur ve ilk geçtiği yerde onu siler. Eğer bu değer listede yoksa hata verir.\n",
        "\n",
        "print(liste1)\n",
        "liste1.remove(1)\n",
        "print(liste1)"
      ],
      "metadata": {
        "colab": {
          "base_uri": "https://localhost:8080/"
        },
        "id": "iUxFzxQFLVPg",
        "outputId": "fe69042b-e0e9-4830-d7da-109fbaa00bbd"
      },
      "execution_count": 28,
      "outputs": [
        {
          "output_type": "stream",
          "name": "stdout",
          "text": [
            "[1, 2, 3, ['Ayse', 'Fatma']]\n",
            "[2, 3, ['Ayse', 'Fatma']]\n"
          ]
        }
      ]
    },
    {
      "cell_type": "code",
      "source": [
        "# sinif listesi yapalim\n",
        "\n",
        "sinif=[\"dilek\", \"dicle\",\"deniz\",\"özge\",\"elif\",\"derya\"] #listeye kalan isimleri ekleyelim\n",
        "sinif.append(\"sabriye\")\n",
        "print(sinif)"
      ],
      "metadata": {
        "colab": {
          "base_uri": "https://localhost:8080/"
        },
        "id": "58AdY9jw8cYi",
        "outputId": "d6ed61c4-c232-4344-8405-40c8173680e2"
      },
      "execution_count": 19,
      "outputs": [
        {
          "output_type": "stream",
          "name": "stdout",
          "text": [
            "['dilek', 'dicle', 'deniz', 'özge', 'elif', 'derya', 'sabriye']\n"
          ]
        }
      ]
    },
    {
      "cell_type": "code",
      "source": [
        "# isminde a harfi olanlar\n",
        "\n",
        "isimde_a_olanlar=[]\n",
        "for isim in sinif:\n",
        "  if \"a\" in isim:\n",
        "    isimde_a_olanlar.append(isim)\n",
        "print(isimde_a_olanlar)"
      ],
      "metadata": {
        "colab": {
          "base_uri": "https://localhost:8080/"
        },
        "id": "P1AXiNXF-0h5",
        "outputId": "e45625cf-8ab8-49c7-dfa2-fe5d4770ebe5"
      },
      "execution_count": 20,
      "outputs": [
        {
          "output_type": "stream",
          "name": "stdout",
          "text": [
            "['derya', 'sabriye']\n"
          ]
        }
      ]
    },
    {
      "cell_type": "code",
      "source": [
        "# ismin icinde i harfi olanlar yeni bir liste yapalim\n",
        "\n",
        "isimde_i_olanlar=[]\n",
        "\n",
        "for isim in sinif:\n",
        "  if \"i\"  in isim:\n",
        "    isimde_i_olanlar.append(isim)\n",
        "print(isimde_i_olanlar)\n"
      ],
      "metadata": {
        "id": "hIcaIKSt9L4m"
      },
      "execution_count": null,
      "outputs": []
    },
    {
      "cell_type": "code",
      "source": [
        "# isim icinde hem a hem i olanlarin listesi\n",
        "\n",
        "isimde_a_i_olanlar=[]\n",
        "\n",
        "for isim in sinif:\n",
        "  if \"i\" and \"a\" in isim:\n",
        "    isimde_a_i_olanlar.append(isim)\n",
        "print(isimde_a_i_olanlar)"
      ],
      "metadata": {
        "colab": {
          "base_uri": "https://localhost:8080/"
        },
        "id": "05KLHDBjNBx2",
        "outputId": "dbb07127-06de-45c2-d380-3761d9a80b68"
      },
      "execution_count": 30,
      "outputs": [
        {
          "output_type": "stream",
          "name": "stdout",
          "text": [
            "['derya', 'sabriye']\n"
          ]
        }
      ]
    },
    {
      "cell_type": "code",
      "source": [
        "# verilen listeyi cift sayilar ve tek sayilar listesi yapip iki farkli liste ile yapiyoruz\n",
        "\n",
        "a=[1,2,5,7,9,18,43,56,98]\n",
        "\n",
        "# Boş listeler oluşturuyoruz\n",
        "\n",
        "cift_sayilar = []\n",
        "tek_sayilar = []\n",
        "\n",
        "for sayi in a:\n",
        "    if sayi % 2 == 0:\n",
        "        cift_sayilar.append(sayi)\n",
        "    else:\n",
        "        tek_sayilar.append(sayi)\n",
        "\n",
        "# Sonuçları yazdırıyoruz\n",
        "print(\"Çift sayılar:\", cift_sayilar)\n",
        "print(\"Tek sayılar:\", tek_sayilar)"
      ],
      "metadata": {
        "colab": {
          "base_uri": "https://localhost:8080/"
        },
        "id": "KL2MfNQl_XT1",
        "outputId": "3a9ef6f1-dad8-4114-f765-46f908d81d56"
      },
      "execution_count": 9,
      "outputs": [
        {
          "output_type": "stream",
          "name": "stdout",
          "text": [
            "Çift sayılar: [2, 18, 56, 98]\n",
            "Tek sayılar: [1, 5, 7, 9, 43]\n"
          ]
        }
      ]
    },
    {
      "cell_type": "code",
      "source": [],
      "metadata": {
        "id": "8Y3Bev5g_353"
      },
      "execution_count": null,
      "outputs": []
    }
  ]
}