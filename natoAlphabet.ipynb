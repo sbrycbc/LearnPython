{
  "nbformat": 4,
  "nbformat_minor": 0,
  "metadata": {
    "colab": {
      "provenance": [],
      "authorship_tag": "ABX9TyM6/vBqP2IiFcc3d++I4c15",
      "include_colab_link": true
    },
    "kernelspec": {
      "name": "python3",
      "display_name": "Python 3"
    },
    "language_info": {
      "name": "python"
    }
  },
  "cells": [
    {
      "cell_type": "markdown",
      "metadata": {
        "id": "view-in-github",
        "colab_type": "text"
      },
      "source": [
        "<a href=\"https://colab.research.google.com/github/sbrycbc/LearnPython/blob/main/natoAlphabet.ipynb\" target=\"_parent\"><img src=\"https://colab.research.google.com/assets/colab-badge.svg\" alt=\"Open In Colab\"/></a>"
      ]
    },
    {
      "cell_type": "code",
      "execution_count": 2,
      "metadata": {
        "colab": {
          "base_uri": "https://localhost:8080/"
        },
        "id": "DbvYAAqyqdFJ",
        "outputId": "71179da5-5b61-42f0-f598-76c3e47fd2c8"
      },
      "outputs": [
        {
          "output_type": "stream",
          "name": "stdout",
          "text": [
            "Denemek istediginiz ismi girin!!!Sabriye\n",
            "Sabriye NATO formatında: Sierra Alpha Bravo Romeo India Yankee Echo\n"
          ]
        }
      ],
      "source": [
        "def nato_cevir(isim):\n",
        "    # NATO fonetik alfabesi sözlüğü\n",
        "    nato_sozluk = {\n",
        "        'A': 'Alpha',   'B': 'Bravo',    'C': 'Charlie',  'D': 'Delta',\n",
        "        'E': 'Echo',    'F': 'Foxtrot', 'G': 'Golf',     'H': 'Hotel',\n",
        "        'I': 'India',   'J': 'Juliett', 'K': 'Kilo',     'L': 'Lima',\n",
        "        'M': 'Mike',    'N': 'November','O': 'Oscar',    'P': 'Papa',\n",
        "        'Q': 'Quebec',  'R': 'Romeo',   'S': 'Sierra',   'T': 'Tango',\n",
        "        'U': 'Uniform', 'V': 'Victor',  'W': 'Whiskey',  'X': 'X-ray',\n",
        "        'Y': 'Yankee',  'Z': 'Zulu'\n",
        "    }\n",
        "\n",
        "\n",
        "    isim = isim.upper() #İsmi büyük harflere çevir ve harfleri kontrol et\n",
        "    sonuc = []\n",
        "\n",
        "    for harf in isim:\n",
        "        if harf in nato_sozluk:\n",
        "            sonuc.append(nato_sozluk[harf])\n",
        "        else:\n",
        "            sonuc.append(harf)\n",
        "\n",
        "    # NATO formatındaki harfleri birleştir ve döndür\n",
        "    return ' '.join(sonuc)\n",
        "\n",
        "\n",
        "isim =input(\"Denemek istediginiz ismi girin!!!\")\n",
        "print(f\"{isim} NATO formatında: {nato_cevir(isim)}\")\n"
      ]
    },
    {
      "cell_type": "code",
      "source": [],
      "metadata": {
        "id": "azXroJVS4Hel"
      },
      "execution_count": null,
      "outputs": []
    }
  ]
}