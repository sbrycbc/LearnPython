{
  "nbformat": 4,
  "nbformat_minor": 0,
  "metadata": {
    "colab": {
      "provenance": [],
      "authorship_tag": "ABX9TyPFZ5alEFzcN+LLXhqS+cze",
      "include_colab_link": true
    },
    "kernelspec": {
      "name": "python3",
      "display_name": "Python 3"
    },
    "language_info": {
      "name": "python"
    }
  },
  "cells": [
    {
      "cell_type": "markdown",
      "metadata": {
        "id": "view-in-github",
        "colab_type": "text"
      },
      "source": [
        "<a href=\"https://colab.research.google.com/github/sbrycbc/LearnPython/blob/main/Function.ipynb\" target=\"_parent\"><img src=\"https://colab.research.google.com/assets/colab-badge.svg\" alt=\"Open In Colab\"/></a>"
      ]
    },
    {
      "cell_type": "code",
      "execution_count": null,
      "metadata": {
        "id": "XrFjQ0I3cifv"
      },
      "outputs": [],
      "source": [
        "### functions###\n",
        "\n",
        "# Fonksiyonlar, bir programda belirli bir görevi gerçekleştiren, tekrar kullanılabilir kod bloklarıdır.\n"
      ]
    },
    {
      "cell_type": "code",
      "source": [
        "def hic():\n",
        "  return None"
      ],
      "metadata": {
        "id": "gqEhI8SFKckD"
      },
      "execution_count": 6,
      "outputs": []
    },
    {
      "cell_type": "code",
      "source": [
        "hic()"
      ],
      "metadata": {
        "id": "_bw47j4eKje8"
      },
      "execution_count": 7,
      "outputs": []
    },
    {
      "cell_type": "code",
      "source": [
        "def miav():\n",
        "  return(\"miav\")"
      ],
      "metadata": {
        "id": "XvhDeobvKxC4"
      },
      "execution_count": 8,
      "outputs": []
    },
    {
      "cell_type": "code",
      "source": [
        "miav()"
      ],
      "metadata": {
        "colab": {
          "base_uri": "https://localhost:8080/",
          "height": 36
        },
        "id": "WtMI0Ey-LQwW",
        "outputId": "59425bfd-b994-4a40-92b5-0b561ae527a2"
      },
      "execution_count": 9,
      "outputs": [
        {
          "output_type": "execute_result",
          "data": {
            "text/plain": [
              "'miav'"
            ],
            "application/vnd.google.colaboratory.intrinsic+json": {
              "type": "string"
            }
          },
          "metadata": {},
          "execution_count": 9
        }
      ]
    },
    {
      "cell_type": "code",
      "source": [
        "def selam_ver():\n",
        "    print(\"Merhaba!\")\n",
        "\n",
        "selam_ver()"
      ],
      "metadata": {
        "colab": {
          "base_uri": "https://localhost:8080/"
        },
        "id": "ZNG6_G4rLsmM",
        "outputId": "3b4db130-b0d8-43a2-ab91-9045dbce38d0"
      },
      "execution_count": 13,
      "outputs": [
        {
          "output_type": "stream",
          "name": "stdout",
          "text": [
            "Merhaba!\n"
          ]
        }
      ]
    },
    {
      "cell_type": "code",
      "source": [
        "def selamla(isim):\n",
        "    print(\"Merhaba, \" + isim + \"!\")\n",
        "\n",
        "selamla(\"Sbry\")\n"
      ],
      "metadata": {
        "colab": {
          "base_uri": "https://localhost:8080/"
        },
        "id": "DI86mrn8L4df",
        "outputId": "55d69307-5a82-4297-f7e3-3477563d0274"
      },
      "execution_count": 14,
      "outputs": [
        {
          "output_type": "stream",
          "name": "stdout",
          "text": [
            "Merhaba, Sbry!\n"
          ]
        }
      ]
    },
    {
      "cell_type": "code",
      "source": [
        "def toplama(a,b):\n",
        "  return a+b\n",
        "\n",
        "toplama(3,5)"
      ],
      "metadata": {
        "colab": {
          "base_uri": "https://localhost:8080/"
        },
        "id": "GMJV2q1OeT7P",
        "outputId": "8fc8be93-c2f3-41c7-b3d2-4cbf73ab16e9"
      },
      "execution_count": 16,
      "outputs": [
        {
          "output_type": "execute_result",
          "data": {
            "text/plain": [
              "8"
            ]
          },
          "metadata": {},
          "execution_count": 16
        }
      ]
    },
    {
      "cell_type": "code",
      "source": [
        "def cikarma(a,b):\n",
        "  cikarma=a-b\n",
        "  return cikarma"
      ],
      "metadata": {
        "id": "aendFIIkd4Lk"
      },
      "execution_count": 1,
      "outputs": []
    },
    {
      "cell_type": "code",
      "source": [
        "cikarma(3,5)"
      ],
      "metadata": {
        "colab": {
          "base_uri": "https://localhost:8080/"
        },
        "id": "7wnIDGFseAd3",
        "outputId": "7e4ef738-5d87-474c-8548-42469144ab9a"
      },
      "execution_count": 3,
      "outputs": [
        {
          "output_type": "execute_result",
          "data": {
            "text/plain": [
              "-2"
            ]
          },
          "metadata": {},
          "execution_count": 3
        }
      ]
    },
    {
      "cell_type": "code",
      "source": [
        "def carpma(a,b):\n",
        "  carpma=a*b\n",
        "  return carpma\n",
        "\n",
        "carpma(3,5)"
      ],
      "metadata": {
        "colab": {
          "base_uri": "https://localhost:8080/"
        },
        "id": "U4LVRXAteIfu",
        "outputId": "527f8bb4-0832-46d6-aa2e-711b574c810b"
      },
      "execution_count": 15,
      "outputs": [
        {
          "output_type": "execute_result",
          "data": {
            "text/plain": [
              "15"
            ]
          },
          "metadata": {},
          "execution_count": 15
        }
      ]
    },
    {
      "cell_type": "code",
      "source": [],
      "metadata": {
        "id": "g1tgnAW7fTrs"
      },
      "execution_count": null,
      "outputs": []
    }
  ]
}