{
  "nbformat": 4,
  "nbformat_minor": 0,
  "metadata": {
    "colab": {
      "provenance": [],
      "authorship_tag": "ABX9TyOnYKUqJxi4B7+ldytBqP4D",
      "include_colab_link": true
    },
    "kernelspec": {
      "name": "python3",
      "display_name": "Python 3"
    },
    "language_info": {
      "name": "python"
    }
  },
  "cells": [
    {
      "cell_type": "markdown",
      "metadata": {
        "id": "view-in-github",
        "colab_type": "text"
      },
      "source": [
        "<a href=\"https://colab.research.google.com/github/sbrycbc/LearnPython/blob/main/modules.ipynb\" target=\"_parent\"><img src=\"https://colab.research.google.com/assets/colab-badge.svg\" alt=\"Open In Colab\"/></a>"
      ]
    },
    {
      "cell_type": "code",
      "execution_count": 1,
      "metadata": {
        "id": "DQbOijzzaiJ6"
      },
      "outputs": [],
      "source": [
        "### Modüller (Modules) ###\n",
        "\n",
        "# -  Python'da modüller, farklı işlevleri içeren kod bloklarıdır. Modüller, belirli görevleri gerçekleştiren işlevler ve sınıflar içerir, bu sayede kodlarımızı daha düzenli ve tekrar kullanılabilir hale getirir.\n",
        "\n",
        "# - `import` ifadesi ile başka dosyalardaki veya Python kütüphanelerindeki modülleri programımıza ekleyebiliriz. Bu sayede, Python'un standart kütüphanesinde bulunan birçok hazır işlevi kullanabiliriz.\n",
        "\n",
        "\n",
        "\n"
      ]
    },
    {
      "cell_type": "code",
      "source": [
        "## Python'da Tüm Modülleri Görmek icin ##\n",
        "\n",
        "#  help(\"modules\")"
      ],
      "metadata": {
        "id": "r_ftvLjhgn-6"
      },
      "execution_count": null,
      "outputs": []
    },
    {
      "cell_type": "code",
      "source": [
        "## \"math\" ##\n",
        "# Bu modül matematiksel işlemleri kolaylaştıran birçok fonksiyon içerir.\n",
        "\n",
        "import math\n",
        "math.factorial(5)"
      ],
      "metadata": {
        "colab": {
          "base_uri": "https://localhost:8080/"
        },
        "id": "B9HFt3Kla81Y",
        "outputId": "4d59360f-0701-492e-bb31-80e6d8580ed5"
      },
      "execution_count": 2,
      "outputs": [
        {
          "output_type": "execute_result",
          "data": {
            "text/plain": [
              "120"
            ]
          },
          "metadata": {},
          "execution_count": 2
        }
      ]
    },
    {
      "cell_type": "code",
      "source": [
        "## \"random\" ##\n",
        "# Bu modül rastgele sayılar üretmek için kullanılır.\n",
        "\n",
        "import random\n",
        "random.randint(1,100)\n"
      ],
      "metadata": {
        "colab": {
          "base_uri": "https://localhost:8080/"
        },
        "id": "RhWrURODbqZm",
        "outputId": "2414032b-b8fd-4fef-a882-0074cf2f8011"
      },
      "execution_count": 3,
      "outputs": [
        {
          "output_type": "execute_result",
          "data": {
            "text/plain": [
              "47"
            ]
          },
          "metadata": {},
          "execution_count": 3
        }
      ]
    },
    {
      "cell_type": "code",
      "source": [
        "## Sayi Tahmin Oyunu ##\n",
        "\n",
        "import random\n",
        "i=random.randint(1,70)\n",
        "print(i)\n",
        "while i < 71:\n",
        "  tahmin = int(input(\"Tahmininiz(1 ile 70 arasi)!! \"))\n",
        "  if i == tahmin:\n",
        "    print(\"**Bildiniz**\")\n",
        "    break\n",
        "  elif tahmin < i:\n",
        "        print(\"Daha büyük bir sayı söylemelisin!\")\n",
        "  else:\n",
        "    print(\"Daha kücük bir sayı söylemelisin!!\")"
      ],
      "metadata": {
        "colab": {
          "base_uri": "https://localhost:8080/"
        },
        "id": "cJXfZAgacSkw",
        "outputId": "49e035ab-c76d-4ce3-e86e-88a187cb1226"
      },
      "execution_count": 8,
      "outputs": [
        {
          "output_type": "stream",
          "name": "stdout",
          "text": [
            "52\n",
            "Tahmininiz(1 ile 70 arasi)!! 55\n",
            "Daha kücük bir sayı söylemelisin!!\n",
            "Tahmininiz(1 ile 70 arasi)!! 51\n",
            "Daha büyük bir sayı söylemelisin!\n",
            "Tahmininiz(1 ile 70 arasi)!! 11\n",
            "Daha büyük bir sayı söylemelisin!\n",
            "Tahmininiz(1 ile 70 arasi)!! 52\n",
            "**Bildiniz**\n"
          ]
        }
      ]
    },
    {
      "cell_type": "code",
      "source": [
        "\n"
      ],
      "metadata": {
        "id": "6bHdSwvMc0Fn"
      },
      "execution_count": null,
      "outputs": []
    }
  ]
}