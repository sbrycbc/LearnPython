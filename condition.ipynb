{
  "nbformat": 4,
  "nbformat_minor": 0,
  "metadata": {
    "colab": {
      "provenance": [],
      "authorship_tag": "ABX9TyPSDm+mUHjBRrH652hYfeIv",
      "include_colab_link": true
    },
    "kernelspec": {
      "name": "python3",
      "display_name": "Python 3"
    },
    "language_info": {
      "name": "python"
    }
  },
  "cells": [
    {
      "cell_type": "markdown",
      "metadata": {
        "id": "view-in-github",
        "colab_type": "text"
      },
      "source": [
        "<a href=\"https://colab.research.google.com/github/sbrycbc/LearnPython/blob/main/condition.ipynb\" target=\"_parent\"><img src=\"https://colab.research.google.com/assets/colab-badge.svg\" alt=\"Open In Colab\"/></a>"
      ]
    },
    {
      "cell_type": "code",
      "execution_count": 1,
      "metadata": {
        "id": "Tk4iQ0z69McZ"
      },
      "outputs": [],
      "source": [
        "## condition ##"
      ]
    },
    {
      "cell_type": "code",
      "source": [
        "sayi=7\n",
        "if sayi>0:\n",
        "  print(\"Pozitif bir sayi\")"
      ],
      "metadata": {
        "colab": {
          "base_uri": "https://localhost:8080/"
        },
        "id": "m60uWQvI9ukH",
        "outputId": "afb85c48-65d8-4988-e553-7ccf46a9ae6b"
      },
      "execution_count": 22,
      "outputs": [
        {
          "output_type": "stream",
          "name": "stdout",
          "text": [
            "Pozitif bir sayi\n"
          ]
        }
      ]
    },
    {
      "cell_type": "code",
      "source": [
        " # pozitif mi negatif mi\n",
        "\n",
        "sayi=-1\n",
        "if sayi>0:\n",
        "  print(\"Pozitif bir sayi\")\n",
        "else:\n",
        "  print(\"Negatif bir sayi\")\n"
      ],
      "metadata": {
        "colab": {
          "base_uri": "https://localhost:8080/"
        },
        "id": "Y7_oGnAn97II",
        "outputId": "678e6ac4-46ac-4c0b-9ea0-1b16f7d0fe02"
      },
      "execution_count": 23,
      "outputs": [
        {
          "output_type": "stream",
          "name": "stdout",
          "text": [
            "Negatif bir sayi\n"
          ]
        }
      ]
    },
    {
      "cell_type": "code",
      "source": [
        "yas = int(input(\"Yasinizi giriniz!\"))\n",
        "if yas>=18:\n",
        "  print(\"Ehliyet alabilirsiniz!!\")\n",
        "else:\n",
        "  print(\"Üzgünüz daha büyümen gerekiyor!!\")"
      ],
      "metadata": {
        "colab": {
          "base_uri": "https://localhost:8080/"
        },
        "id": "iN_OZkob_Bb6",
        "outputId": "9215db4d-226a-4364-c245-c934d36d9444"
      },
      "execution_count": 24,
      "outputs": [
        {
          "output_type": "stream",
          "name": "stdout",
          "text": [
            "Yasinizi giriniz!65\n",
            "Ehliyet alabilirsiniz!!\n"
          ]
        }
      ]
    },
    {
      "cell_type": "code",
      "source": [
        "# sayi sifirsa\n",
        "\n",
        "sayi=5\n",
        "if sayi==0:\n",
        "  print(\"sifir\")\n",
        "elif sayi>0:\n",
        "  print(\"Pozitif bir sayi!\")\n",
        "else:\n",
        "  print(\"Negatif bir sayi!\")"
      ],
      "metadata": {
        "id": "mBTSUxht_kQf"
      },
      "execution_count": 8,
      "outputs": []
    },
    {
      "cell_type": "code",
      "source": [
        "###  BMI Hesaplama ###\n",
        "\n",
        "BMI = int(input(\"Lütfen BMI değerini giriniz: \"))\n",
        "\n",
        "if BMI < 18.5:\n",
        "    print(\"Sonuç: Düşük kilolu (Underweight) - Daha sağlıklı bir kilo arayışında olmalısınız.\")\n",
        "elif 18.5 <= BMI < 24.9:\n",
        "    print(\"Sonuç: Normal kilolu (Normal weight) - Sağlıklı bir kilodasınız, devam edin!\")\n",
        "elif 25 <= BMI < 29.9:\n",
        "    print(\"Sonuç: Fazla kilolu (Overweight) - Sağlığınıza dikkat etmelisiniz.\")\n",
        "else:\n",
        "    print(\"Sonuç: Obez (Obesity) - Bu sonuca göre bir sağlık uzmanına danışmalısınız.\")\n",
        "\n"
      ],
      "metadata": {
        "colab": {
          "base_uri": "https://localhost:8080/"
        },
        "id": "M3Wu4fu8CNv5",
        "outputId": "884455c3-5c2e-45a4-a0e9-2511f0465e79"
      },
      "execution_count": 25,
      "outputs": [
        {
          "output_type": "stream",
          "name": "stdout",
          "text": [
            "Lütfen BMI değerini giriniz: 23\n",
            "Sonuç: Normal kilolu (Normal weight) - Sağlıklı bir kilodasınız, devam edin!\n"
          ]
        }
      ]
    },
    {
      "cell_type": "code",
      "source": [
        "## Tek ve Cift sayi olarak siralama ##\n",
        "\n",
        "for i in range(1, 101):\n",
        "  if i % 2 == 0:\n",
        "     print(f\"{i} çift sayi\")\n",
        "  else:\n",
        "    print(f\"{i} tek sayi\")"
      ],
      "metadata": {
        "colab": {
          "base_uri": "https://localhost:8080/"
        },
        "collapsed": true,
        "id": "ngIiTNaaC6tq",
        "outputId": "f0df8efc-9e71-4584-893d-37411904dc2f"
      },
      "execution_count": 11,
      "outputs": [
        {
          "output_type": "stream",
          "name": "stdout",
          "text": [
            "1 tek sayi\n",
            "2 çift sayi\n",
            "3 tek sayi\n",
            "4 çift sayi\n",
            "5 tek sayi\n",
            "6 çift sayi\n",
            "7 tek sayi\n",
            "8 çift sayi\n",
            "9 tek sayi\n",
            "10 çift sayi\n",
            "11 tek sayi\n",
            "12 çift sayi\n",
            "13 tek sayi\n",
            "14 çift sayi\n",
            "15 tek sayi\n",
            "16 çift sayi\n",
            "17 tek sayi\n",
            "18 çift sayi\n",
            "19 tek sayi\n",
            "20 çift sayi\n",
            "21 tek sayi\n",
            "22 çift sayi\n",
            "23 tek sayi\n",
            "24 çift sayi\n",
            "25 tek sayi\n",
            "26 çift sayi\n",
            "27 tek sayi\n",
            "28 çift sayi\n",
            "29 tek sayi\n",
            "30 çift sayi\n",
            "31 tek sayi\n",
            "32 çift sayi\n",
            "33 tek sayi\n",
            "34 çift sayi\n",
            "35 tek sayi\n",
            "36 çift sayi\n",
            "37 tek sayi\n",
            "38 çift sayi\n",
            "39 tek sayi\n",
            "40 çift sayi\n",
            "41 tek sayi\n",
            "42 çift sayi\n",
            "43 tek sayi\n",
            "44 çift sayi\n",
            "45 tek sayi\n",
            "46 çift sayi\n",
            "47 tek sayi\n",
            "48 çift sayi\n",
            "49 tek sayi\n",
            "50 çift sayi\n",
            "51 tek sayi\n",
            "52 çift sayi\n",
            "53 tek sayi\n",
            "54 çift sayi\n",
            "55 tek sayi\n",
            "56 çift sayi\n",
            "57 tek sayi\n",
            "58 çift sayi\n",
            "59 tek sayi\n",
            "60 çift sayi\n",
            "61 tek sayi\n",
            "62 çift sayi\n",
            "63 tek sayi\n",
            "64 çift sayi\n",
            "65 tek sayi\n",
            "66 çift sayi\n",
            "67 tek sayi\n",
            "68 çift sayi\n",
            "69 tek sayi\n",
            "70 çift sayi\n",
            "71 tek sayi\n",
            "72 çift sayi\n",
            "73 tek sayi\n",
            "74 çift sayi\n",
            "75 tek sayi\n",
            "76 çift sayi\n",
            "77 tek sayi\n",
            "78 çift sayi\n",
            "79 tek sayi\n",
            "80 çift sayi\n",
            "81 tek sayi\n",
            "82 çift sayi\n",
            "83 tek sayi\n",
            "84 çift sayi\n",
            "85 tek sayi\n",
            "86 çift sayi\n",
            "87 tek sayi\n",
            "88 çift sayi\n",
            "89 tek sayi\n",
            "90 çift sayi\n",
            "91 tek sayi\n",
            "92 çift sayi\n",
            "93 tek sayi\n",
            "94 çift sayi\n",
            "95 tek sayi\n",
            "96 çift sayi\n",
            "97 tek sayi\n",
            "98 çift sayi\n",
            "99 tek sayi\n",
            "100 çift sayi\n"
          ]
        }
      ]
    },
    {
      "cell_type": "code",
      "source": [
        "## Tek ve Cift sayi olarak bulma ##\n",
        "\n",
        "sayi = int(input(\"Sayinizi giriniz!\"))\n",
        "if sayi % 2 == 0:\n",
        "     print(f\"{sayi} çift sayidir!\")\n",
        "else:\n",
        "    print(f\"{sayi} tek sayidir!\")"
      ],
      "metadata": {
        "colab": {
          "base_uri": "https://localhost:8080/"
        },
        "id": "uX3OxXNqDzbH",
        "outputId": "d5ea0a2a-fdd5-4821-f9fb-d383ecf21d99"
      },
      "execution_count": 12,
      "outputs": [
        {
          "output_type": "stream",
          "name": "stdout",
          "text": [
            "Sayinizi giriniz!6\n",
            "6 çift sayi\n"
          ]
        }
      ]
    },
    {
      "cell_type": "code",
      "source": [
        "## En az üc basamakli ve ilk basamagi 3'e tam bölüne bilen ve bölünemeyen sayilar ##\n",
        "\n",
        "sayi = int(input(\"en az üc basamakli sayinizi giriniz!\"))\n",
        "son = sayi % 10\n",
        "if son % 3 == 0:\n",
        "     print(f\"{sayi} bölünebilir\")\n",
        "else:\n",
        "    print(f\"{sayi} bölünemez\")"
      ],
      "metadata": {
        "colab": {
          "base_uri": "https://localhost:8080/"
        },
        "id": "fcGCKiCgE86I",
        "outputId": "e7067995-0700-4ea2-999a-e35e5ef81250"
      },
      "execution_count": 15,
      "outputs": [
        {
          "output_type": "stream",
          "name": "stdout",
          "text": [
            "en az üc basamakli sayinizi giriniz!763\n",
            "763 bölünebilir\n"
          ]
        }
      ]
    },
    {
      "cell_type": "code",
      "source": [
        "## 1500 ile 2700 arasinda hem 5 hem de 7 ye bölünebilen sayilar ##\n",
        "\n",
        "for i in range(1500, 2701):\n",
        "    if i % 5 == 0 and i % 7 == 0:\n",
        "        print(i, end=\", \")\n"
      ],
      "metadata": {
        "colab": {
          "base_uri": "https://localhost:8080/"
        },
        "id": "CUgTL5nVGhFA",
        "outputId": "fcbc3d0e-ff1d-46db-9e56-371ab5ea2340"
      },
      "execution_count": 27,
      "outputs": [
        {
          "output_type": "stream",
          "name": "stdout",
          "text": [
            "1505, 1540, 1575, 1610, 1645, 1680, 1715, 1750, 1785, 1820, 1855, 1890, 1925, 1960, 1995, 2030, 2065, 2100, 2135, 2170, 2205, 2240, 2275, 2310, 2345, 2380, 2415, 2450, 2485, 2520, 2555, 2590, 2625, 2660, 2695, "
          ]
        }
      ]
    },
    {
      "cell_type": "code",
      "source": [
        "## 1 den 100 e kadar 3 bölünüyorsa fizz yazacak 5 e bölünüyorsa buzz hem 3 hemde 5 e bölünenler icin fizzbuzz yazilacak\n",
        "for i in range(1, 101):\n",
        "  if i % 3 == 0 and i % 5 == 0:\n",
        "     print(\"fizzbuzz\")\n",
        "  elif i % 5 == 0:\n",
        "    print(\"buzz\")\n",
        "  elif i % 3 == 0:\n",
        "    print(\"fizz\")\n",
        "  else:\n",
        "    print(i)\n",
        "\n"
      ],
      "metadata": {
        "colab": {
          "base_uri": "https://localhost:8080/"
        },
        "id": "BceaKZh6IODb",
        "outputId": "47178853-5fe1-4928-e07d-dfcd891074ff"
      },
      "execution_count": 20,
      "outputs": [
        {
          "output_type": "stream",
          "name": "stdout",
          "text": [
            "1\n",
            "2\n",
            "fizz\n",
            "4\n",
            "buzz\n",
            "fizz\n",
            "7\n",
            "8\n",
            "fizz\n",
            "buzz\n",
            "11\n",
            "fizz\n",
            "13\n",
            "14\n",
            "fizzbuzz\n",
            "16\n",
            "17\n",
            "fizz\n",
            "19\n",
            "buzz\n",
            "fizz\n",
            "22\n",
            "23\n",
            "fizz\n",
            "buzz\n",
            "26\n",
            "fizz\n",
            "28\n",
            "29\n",
            "fizzbuzz\n",
            "31\n",
            "32\n",
            "fizz\n",
            "34\n",
            "buzz\n",
            "fizz\n",
            "37\n",
            "38\n",
            "fizz\n",
            "buzz\n",
            "41\n",
            "fizz\n",
            "43\n",
            "44\n",
            "fizzbuzz\n",
            "46\n",
            "47\n",
            "fizz\n",
            "49\n",
            "buzz\n",
            "fizz\n",
            "52\n",
            "53\n",
            "fizz\n",
            "buzz\n",
            "56\n",
            "fizz\n",
            "58\n",
            "59\n",
            "fizzbuzz\n",
            "61\n",
            "62\n",
            "fizz\n",
            "64\n",
            "buzz\n",
            "fizz\n",
            "67\n",
            "68\n",
            "fizz\n",
            "buzz\n",
            "71\n",
            "fizz\n",
            "73\n",
            "74\n",
            "fizzbuzz\n",
            "76\n",
            "77\n",
            "fizz\n",
            "79\n",
            "buzz\n",
            "fizz\n",
            "82\n",
            "83\n",
            "fizz\n",
            "buzz\n",
            "86\n",
            "fizz\n",
            "88\n",
            "89\n",
            "fizzbuzz\n",
            "91\n",
            "92\n",
            "fizz\n",
            "94\n",
            "buzz\n",
            "fizz\n",
            "97\n",
            "98\n",
            "fizz\n",
            "buzz\n"
          ]
        }
      ]
    },
    {
      "cell_type": "code",
      "source": [],
      "metadata": {
        "id": "O-vLQ4xgJfWP"
      },
      "execution_count": null,
      "outputs": []
    }
  ]
}