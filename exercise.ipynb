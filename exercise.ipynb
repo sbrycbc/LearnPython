{
  "nbformat": 4,
  "nbformat_minor": 0,
  "metadata": {
    "colab": {
      "provenance": [],
      "authorship_tag": "ABX9TyPNGLcz+gFblRj4YY5MfUEn",
      "include_colab_link": true
    },
    "kernelspec": {
      "name": "python3",
      "display_name": "Python 3"
    },
    "language_info": {
      "name": "python"
    }
  },
  "cells": [
    {
      "cell_type": "markdown",
      "metadata": {
        "id": "view-in-github",
        "colab_type": "text"
      },
      "source": [
        "<a href=\"https://colab.research.google.com/github/sbrycbc/LearnPython/blob/main/exercise.ipynb\" target=\"_parent\"><img src=\"https://colab.research.google.com/assets/colab-badge.svg\" alt=\"Open In Colab\"/></a>"
      ]
    },
    {
      "cell_type": "code",
      "execution_count": 4,
      "metadata": {
        "colab": {
          "base_uri": "https://localhost:8080/"
        },
        "id": "xNCL12xf2HvF",
        "outputId": "ebe96cea-3636-499d-8a0e-07c59a3b4ec7"
      },
      "outputs": [
        {
          "output_type": "stream",
          "name": "stdout",
          "text": [
            "\n",
            "1\n",
            "22\n",
            "333\n",
            "4444\n",
            "55555\n",
            "666666\n",
            "7777777\n",
            "88888888\n",
            "999999999\n"
          ]
        }
      ],
      "source": [
        "for i in range(0,10):\n",
        "    print(str(i) * i)"
      ]
    },
    {
      "cell_type": "code",
      "source": [
        "for i in range(0,10):\n",
        "    print((str(i) + \" \") * i)"
      ],
      "metadata": {
        "colab": {
          "base_uri": "https://localhost:8080/"
        },
        "id": "wFcT67vA6lCk",
        "outputId": "45adc7a9-3d12-4532-83a8-e5ceffcf0695"
      },
      "execution_count": 8,
      "outputs": [
        {
          "output_type": "stream",
          "name": "stdout",
          "text": [
            "\n",
            "1 \n",
            "2 2 \n",
            "3 3 3 \n",
            "4 4 4 4 \n",
            "5 5 5 5 5 \n",
            "6 6 6 6 6 6 \n",
            "7 7 7 7 7 7 7 \n",
            "8 8 8 8 8 8 8 8 \n",
            "9 9 9 9 9 9 9 9 9 \n"
          ]
        }
      ]
    },
    {
      "cell_type": "code",
      "source": [
        "for i in range(0,10):\n",
        "    print((\"*\" + \" \") * i)"
      ],
      "metadata": {
        "colab": {
          "base_uri": "https://localhost:8080/"
        },
        "id": "aavOYus668Xl",
        "outputId": "70adb375-5df0-43ad-9bbd-01973f5203d4"
      },
      "execution_count": 9,
      "outputs": [
        {
          "output_type": "stream",
          "name": "stdout",
          "text": [
            "\n",
            "* \n",
            "* * \n",
            "* * * \n",
            "* * * * \n",
            "* * * * * \n",
            "* * * * * * \n",
            "* * * * * * * \n",
            "* * * * * * * * \n",
            "* * * * * * * * * \n"
          ]
        }
      ]
    },
    {
      "cell_type": "code",
      "source": [
        "## ödev pramit seklinde ##\n",
        "\n",
        "for i in range(0, 10):\n",
        "    print(\" \" * (10 - i - 1), end=\"\")\n",
        "    print((\"*\" + \" \") * i)"
      ],
      "metadata": {
        "colab": {
          "base_uri": "https://localhost:8080/"
        },
        "id": "0ECYlIWE7_uT",
        "outputId": "7c5f4232-817e-4f14-bdea-8c7790afacd1"
      },
      "execution_count": 1,
      "outputs": [
        {
          "output_type": "stream",
          "name": "stdout",
          "text": [
            "         \n",
            "        * \n",
            "       * * \n",
            "      * * * \n",
            "     * * * * \n",
            "    * * * * * \n",
            "   * * * * * * \n",
            "  * * * * * * * \n",
            " * * * * * * * * \n",
            "* * * * * * * * * \n"
          ]
        }
      ]
    },
    {
      "cell_type": "code",
      "source": [
        "## ödev ok \">\" seklinde ##\n",
        "\n",
        "for i in range(0, 7):\n",
        "    print(\"* \" * i)\n",
        "for i in range(5, 0,-1):\n",
        "    print(\"* \" * i)"
      ],
      "metadata": {
        "colab": {
          "base_uri": "https://localhost:8080/"
        },
        "id": "kQNhhviaYTHB",
        "outputId": "1f7e5fc2-2c99-49bc-a99e-67ad873d4df7"
      },
      "execution_count": 8,
      "outputs": [
        {
          "output_type": "stream",
          "name": "stdout",
          "text": [
            "\n",
            "* \n",
            "* * \n",
            "* * * \n",
            "* * * * \n",
            "* * * * * \n",
            "* * * * * * \n",
            "* * * * * \n",
            "* * * * \n",
            "* * * \n",
            "* * \n",
            "* \n"
          ]
        }
      ]
    },
    {
      "cell_type": "code",
      "source": [],
      "metadata": {
        "id": "w4Z2OWHvZB6K"
      },
      "execution_count": null,
      "outputs": []
    }
  ]
}