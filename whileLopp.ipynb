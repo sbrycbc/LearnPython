{
  "nbformat": 4,
  "nbformat_minor": 0,
  "metadata": {
    "colab": {
      "provenance": [],
      "authorship_tag": "ABX9TyOADIME180cY7igJnuciBum",
      "include_colab_link": true
    },
    "kernelspec": {
      "name": "python3",
      "display_name": "Python 3"
    },
    "language_info": {
      "name": "python"
    }
  },
  "cells": [
    {
      "cell_type": "markdown",
      "metadata": {
        "id": "view-in-github",
        "colab_type": "text"
      },
      "source": [
        "<a href=\"https://colab.research.google.com/github/sbrycbc/LearnPython/blob/main/whileLopp.ipynb\" target=\"_parent\"><img src=\"https://colab.research.google.com/assets/colab-badge.svg\" alt=\"Open In Colab\"/></a>"
      ]
    },
    {
      "cell_type": "code",
      "execution_count": 2,
      "metadata": {
        "id": "T6I2eum8NRBm"
      },
      "outputs": [],
      "source": [
        "## while loop ##\n",
        "\n",
        "# \"while\" döngüsü, belirli bir koşul doğru olduğu sürece tekrar eder.\n",
        "# Koşul doğru olduğu sürece döngü içindeki kodlar sürekli olarak çalışır.\n",
        "# Koşul yanlış olduğunda ise döngü sonlanır.\n",
        "\n",
        "# Örnek kullanım:\n",
        "i = 0  # Başlangıç değeri\n",
        "while i < 5:  # Koşul: i, 5'ten küçük olduğu sürece döngü çalışacak\n",
        "    print(i)  # i'nin değeri ekrana yazdırılır\n",
        "    i += 1  # i'nin değeri 1 artırılır\n",
        "\n",
        "# Yukarıdaki örnekte, i 0'dan başlar ve her döngüde 1 artar. i 5'e ulaşınca döngü sonlanır.\n"
      ]
    },
    {
      "cell_type": "code",
      "source": [
        "n=1\n",
        "while n!=5:\n",
        "  print(n)\n",
        "  n=n+1"
      ],
      "metadata": {
        "colab": {
          "base_uri": "https://localhost:8080/"
        },
        "id": "hpa6BbMxNxR1",
        "outputId": "9233abbc-c068-4595-b99a-a2fc115839fc"
      },
      "execution_count": 3,
      "outputs": [
        {
          "output_type": "stream",
          "name": "stdout",
          "text": [
            "1\n",
            "2\n",
            "3\n",
            "4\n"
          ]
        }
      ]
    },
    {
      "cell_type": "code",
      "source": [
        "i=1\n",
        "while i < 6:\n",
        "  print(i)\n",
        "  i += 1\n",
        "print(f\"{i}\")"
      ],
      "metadata": {
        "colab": {
          "base_uri": "https://localhost:8080/"
        },
        "id": "NwURyuirNp38",
        "outputId": "f2e270cb-d5a1-4998-c0e7-1ed0394cf625"
      },
      "execution_count": 5,
      "outputs": [
        {
          "output_type": "stream",
          "name": "stdout",
          "text": [
            "1\n",
            "2\n",
            "3\n",
            "4\n",
            "5\n",
            "6\n"
          ]
        }
      ]
    },
    {
      "cell_type": "code",
      "source": [
        "i=0\n",
        "while i < 6:\n",
        "  i += 1\n",
        "  if i == 3:\n",
        "    continue #Döngüdeki mevcut yinelemeyi atlayarak, bir sonraki yinelemeye geçilmesini sağlar.\n",
        "  print(i)"
      ],
      "metadata": {
        "colab": {
          "base_uri": "https://localhost:8080/"
        },
        "id": "u03cA5vpOZ-s",
        "outputId": "f49aa8b5-ef39-4be0-e7b1-d11280887117"
      },
      "execution_count": 6,
      "outputs": [
        {
          "output_type": "stream",
          "name": "stdout",
          "text": [
            "1\n",
            "2\n",
            "4\n",
            "5\n",
            "6\n"
          ]
        }
      ]
    },
    {
      "cell_type": "code",
      "source": [
        "i=0\n",
        "while i < 6:\n",
        "  i += 1\n",
        "  if i == 3:\n",
        "    break #Döngüyü hemen sonlandırarak, döngüden çıkılmasını sağlar\n",
        "  print(i)"
      ],
      "metadata": {
        "colab": {
          "base_uri": "https://localhost:8080/"
        },
        "id": "hcAq4ySdO1At",
        "outputId": "7f47e1e1-e435-4629-8175-6991435135a6"
      },
      "execution_count": 7,
      "outputs": [
        {
          "output_type": "stream",
          "name": "stdout",
          "text": [
            "1\n",
            "2\n"
          ]
        }
      ]
    },
    {
      "cell_type": "code",
      "source": [
        "## Sayi Tahmin Oyunu ##\n",
        "\n",
        "i=6\n",
        "while i < 10:\n",
        "  tahmin = int(input(\"Tahmininiz(1 ile 10 arasi)!! \"))\n",
        "  if i == tahmin:\n",
        "    print(\"**Bildiniz**\")\n",
        "    break\n",
        "  elif tahmin < i:\n",
        "        print(\"Daha büyük bir sayı söylemelisin!\")\n",
        "  else:\n",
        "    print(\"Daha kücük bir sayı söylemelisin!!\")\n",
        "\n"
      ],
      "metadata": {
        "colab": {
          "base_uri": "https://localhost:8080/"
        },
        "id": "XTC83EIEPVxt",
        "outputId": "e2318e75-2e3e-42dd-e766-10efab80fa86"
      },
      "execution_count": 16,
      "outputs": [
        {
          "output_type": "stream",
          "name": "stdout",
          "text": [
            "Tahmininiz(1 ile 10 arasi)!! 4\n",
            "Daha büyük bir sayı söylemelisin!\n",
            "Tahmininiz(1 ile 10 arasi)!! 5\n",
            "Daha büyük bir sayı söylemelisin!\n",
            "Tahmininiz(1 ile 10 arasi)!! 7\n",
            "Daha kücük bir sayı söylemelisin!!\n",
            "Tahmininiz(1 ile 10 arasi)!! 6\n",
            "**Bildiniz**\n"
          ]
        }
      ]
    },
    {
      "cell_type": "code",
      "source": [],
      "metadata": {
        "id": "V9yixY4USLfN"
      },
      "execution_count": null,
      "outputs": []
    }
  ]
}