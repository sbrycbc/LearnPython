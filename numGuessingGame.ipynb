{
  "nbformat": 4,
  "nbformat_minor": 0,
  "metadata": {
    "colab": {
      "provenance": [],
      "authorship_tag": "ABX9TyPyPtAOxPKsSTwvNBkH7gdw",
      "include_colab_link": true
    },
    "kernelspec": {
      "name": "python3",
      "display_name": "Python 3"
    },
    "language_info": {
      "name": "python"
    }
  },
  "cells": [
    {
      "cell_type": "markdown",
      "metadata": {
        "id": "view-in-github",
        "colab_type": "text"
      },
      "source": [
        "<a href=\"https://colab.research.google.com/github/sbrycbc/LearnPython/blob/main/numGuessingGame.ipynb\" target=\"_parent\"><img src=\"https://colab.research.google.com/assets/colab-badge.svg\" alt=\"Open In Colab\"/></a>"
      ]
    },
    {
      "cell_type": "code",
      "execution_count": null,
      "metadata": {
        "colab": {
          "base_uri": "https://localhost:8080/"
        },
        "id": "tyjfp3pEN-N7",
        "outputId": "4aca1096-e675-4cc8-edaf-424ac9bd39e5"
      },
      "outputs": [
        {
          "output_type": "stream",
          "name": "stdout",
          "text": [
            "Seçilen sayı: 83\n",
            "Tahmininiz (1 ile 100 arası): 33\n",
            "Daha büyük bir sayı söylemelisin!\n",
            "Tahmininiz (1 ile 100 arası): 55\n",
            "Daha büyük bir sayı söylemelisin!\n",
            "Tahmininiz (1 ile 100 arası): 83\n",
            "**Bildiniz**\n",
            "Tekrar denemek ister misin? (evet/hayir): hayir\n",
            "Oyun sonlandırıldı. Teşekkürler!\n"
          ]
        }
      ],
      "source": [
        "## Sayi Tahmin Oyunu / Devamli ##\n",
        "\n",
        "import random\n",
        "\n",
        "i = 0\n",
        "\n",
        "while i < 100:\n",
        "\n",
        "    i = random.randint(1, 100)\n",
        "    print(\"Seçilen sayı:\", i)\n",
        "\n",
        "    while i <100:\n",
        "        tahmin = int(input(\"Tahmininiz (1 ile 100 arası): \"))\n",
        "\n",
        "        if i == tahmin:\n",
        "            print(\"**Bildiniz**\")\n",
        "            break\n",
        "        elif tahmin < i:\n",
        "            print(\"Daha büyük bir sayı söylemelisin!\")\n",
        "        else:\n",
        "            print(\"Daha küçük bir sayı söylemelisin!\")\n",
        "\n",
        "    tekrar = input(\"Tekrar denemek ister misin? (evet/hayir): \")\n",
        "    if tekrar != \"evet\":\n",
        "        print(\"Bye Bye!!\")\n",
        "        break\n",
        "\n",
        "\n"
      ]
    },
    {
      "cell_type": "code",
      "source": [
        "\n",
        "\n"
      ],
      "metadata": {
        "id": "Zr1OpakMQAQ0"
      },
      "execution_count": null,
      "outputs": []
    },
    {
      "cell_type": "code",
      "source": [],
      "metadata": {
        "id": "xYVCfcMFS6Hr"
      },
      "execution_count": null,
      "outputs": []
    }
  ]
}